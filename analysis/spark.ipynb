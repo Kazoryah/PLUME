{
 "cells": [
  {
   "cell_type": "code",
   "execution_count": 1,
   "metadata": {},
   "outputs": [
    {
     "name": "stderr",
     "output_type": "stream",
     "text": [
      "/opt/conda/envs/perturbations/lib/python3.10/site-packages/tqdm/auto.py:21: TqdmWarning: IProgress not found. Please update jupyter and ipywidgets. See https://ipywidgets.readthedocs.io/en/stable/user_install.html\n",
      "  from .autonotebook import tqdm as notebook_tqdm\n"
     ]
    }
   ],
   "source": [
    "import matplotlib.pyplot as plt\n",
    "from PIL import Image\n",
    "import numpy as np\n",
    "from kornia import color\n",
    "import torch\n",
    "import pandas as pd\n",
    "import torchvision"
   ]
  },
  {
   "cell_type": "markdown",
   "metadata": {},
   "source": [
    "https://cvi2.uni.lu/spark-2021/"
   ]
  },
  {
   "cell_type": "markdown",
   "metadata": {},
   "source": [
    "# Processing"
   ]
  },
  {
   "cell_type": "markdown",
   "metadata": {},
   "source": [
    "## Crop and Rescale"
   ]
  },
  {
   "cell_type": "code",
   "execution_count": 3,
   "metadata": {},
   "outputs": [],
   "source": [
    "val_labels = pd.read_csv(\"/data/ICIP-2021/validate/validate_labels.csv\")\n",
    "train_labels = pd.read_csv(\"/data/ICIP-2021/train/train_labels.csv\")"
   ]
  },
  {
   "cell_type": "code",
   "execution_count": 4,
   "metadata": {},
   "outputs": [],
   "source": [
    "val_labels[\"bbox\"] = val_labels[\"bbox\"].apply(lambda x: [int(y) for y in x[1:-1].split(\",\")])\n",
    "train_labels[\"bbox\"] = train_labels[\"bbox\"].apply(lambda x: [int(y) for y in x[1:-1].split(\",\")])"
   ]
  },
  {
   "cell_type": "code",
   "execution_count": 5,
   "metadata": {},
   "outputs": [
    {
     "data": {
      "text/html": [
       "<div>\n",
       "<style scoped>\n",
       "    .dataframe tbody tr th:only-of-type {\n",
       "        vertical-align: middle;\n",
       "    }\n",
       "\n",
       "    .dataframe tbody tr th {\n",
       "        vertical-align: top;\n",
       "    }\n",
       "\n",
       "    .dataframe thead th {\n",
       "        text-align: right;\n",
       "    }\n",
       "</style>\n",
       "<table border=\"1\" class=\"dataframe\">\n",
       "  <thead>\n",
       "    <tr style=\"text-align: right;\">\n",
       "      <th></th>\n",
       "      <th>class</th>\n",
       "      <th>id</th>\n",
       "      <th>image</th>\n",
       "      <th>depth</th>\n",
       "      <th>bbox</th>\n",
       "      <th>illumination</th>\n",
       "    </tr>\n",
       "  </thead>\n",
       "  <tbody>\n",
       "    <tr>\n",
       "      <th>0</th>\n",
       "      <td>Cloudsat</td>\n",
       "      <td>10563</td>\n",
       "      <td>image_10563_img.png</td>\n",
       "      <td>image_10563_depth.png</td>\n",
       "      <td>[262, 283, 323, 367]</td>\n",
       "      <td>81.036141</td>\n",
       "    </tr>\n",
       "    <tr>\n",
       "      <th>1</th>\n",
       "      <td>Terra</td>\n",
       "      <td>6536</td>\n",
       "      <td>image_06536_img.png</td>\n",
       "      <td>image_06536_depth.png</td>\n",
       "      <td>[476, 469, 542, 497]</td>\n",
       "      <td>0.244364</td>\n",
       "    </tr>\n",
       "    <tr>\n",
       "      <th>2</th>\n",
       "      <td>Sentinel-6</td>\n",
       "      <td>4676</td>\n",
       "      <td>image_04676_img.png</td>\n",
       "      <td>image_04676_depth.png</td>\n",
       "      <td>[520, 445, 584, 516]</td>\n",
       "      <td>0.126758</td>\n",
       "    </tr>\n",
       "    <tr>\n",
       "      <th>3</th>\n",
       "      <td>Sentinel-6</td>\n",
       "      <td>2965</td>\n",
       "      <td>image_02965_img.png</td>\n",
       "      <td>image_02965_depth.png</td>\n",
       "      <td>[377, 606, 692, 945]</td>\n",
       "      <td>0.686202</td>\n",
       "    </tr>\n",
       "    <tr>\n",
       "      <th>4</th>\n",
       "      <td>CubeSat</td>\n",
       "      <td>3907</td>\n",
       "      <td>image_03907_img.png</td>\n",
       "      <td>image_03907_depth.png</td>\n",
       "      <td>[523, 421, 560, 464]</td>\n",
       "      <td>0.480803</td>\n",
       "    </tr>\n",
       "    <tr>\n",
       "      <th>...</th>\n",
       "      <td>...</td>\n",
       "      <td>...</td>\n",
       "      <td>...</td>\n",
       "      <td>...</td>\n",
       "      <td>...</td>\n",
       "      <td>...</td>\n",
       "    </tr>\n",
       "    <tr>\n",
       "      <th>29995</th>\n",
       "      <td>CubeSat</td>\n",
       "      <td>4350</td>\n",
       "      <td>image_04350_img.png</td>\n",
       "      <td>image_04350_depth.png</td>\n",
       "      <td>[714, 573, 761, 606]</td>\n",
       "      <td>0.582582</td>\n",
       "    </tr>\n",
       "    <tr>\n",
       "      <th>29996</th>\n",
       "      <td>CubeSat</td>\n",
       "      <td>7779</td>\n",
       "      <td>image_07779_img.png</td>\n",
       "      <td>image_07779_depth.png</td>\n",
       "      <td>[360, 657, 381, 681]</td>\n",
       "      <td>0.368994</td>\n",
       "    </tr>\n",
       "    <tr>\n",
       "      <th>29997</th>\n",
       "      <td>CubeSat</td>\n",
       "      <td>5426</td>\n",
       "      <td>image_05426_img.png</td>\n",
       "      <td>image_05426_depth.png</td>\n",
       "      <td>[537, 737, 567, 783]</td>\n",
       "      <td>0.350740</td>\n",
       "    </tr>\n",
       "    <tr>\n",
       "      <th>29998</th>\n",
       "      <td>Cloudsat</td>\n",
       "      <td>6952</td>\n",
       "      <td>image_06952_img.png</td>\n",
       "      <td>image_06952_depth.png</td>\n",
       "      <td>[420, 402, 466, 449]</td>\n",
       "      <td>34.593478</td>\n",
       "    </tr>\n",
       "    <tr>\n",
       "      <th>29999</th>\n",
       "      <td>Aquarius</td>\n",
       "      <td>4615</td>\n",
       "      <td>image_04615_img.png</td>\n",
       "      <td>image_04615_depth.png</td>\n",
       "      <td>[489, 481, 592, 579]</td>\n",
       "      <td>0.526438</td>\n",
       "    </tr>\n",
       "  </tbody>\n",
       "</table>\n",
       "<p>30000 rows × 6 columns</p>\n",
       "</div>"
      ],
      "text/plain": [
       "            class     id                image                  depth  \\\n",
       "0        Cloudsat  10563  image_10563_img.png  image_10563_depth.png   \n",
       "1           Terra   6536  image_06536_img.png  image_06536_depth.png   \n",
       "2      Sentinel-6   4676  image_04676_img.png  image_04676_depth.png   \n",
       "3      Sentinel-6   2965  image_02965_img.png  image_02965_depth.png   \n",
       "4         CubeSat   3907  image_03907_img.png  image_03907_depth.png   \n",
       "...           ...    ...                  ...                    ...   \n",
       "29995     CubeSat   4350  image_04350_img.png  image_04350_depth.png   \n",
       "29996     CubeSat   7779  image_07779_img.png  image_07779_depth.png   \n",
       "29997     CubeSat   5426  image_05426_img.png  image_05426_depth.png   \n",
       "29998    Cloudsat   6952  image_06952_img.png  image_06952_depth.png   \n",
       "29999    Aquarius   4615  image_04615_img.png  image_04615_depth.png   \n",
       "\n",
       "                       bbox  illumination  \n",
       "0      [262, 283, 323, 367]     81.036141  \n",
       "1      [476, 469, 542, 497]      0.244364  \n",
       "2      [520, 445, 584, 516]      0.126758  \n",
       "3      [377, 606, 692, 945]      0.686202  \n",
       "4      [523, 421, 560, 464]      0.480803  \n",
       "...                     ...           ...  \n",
       "29995  [714, 573, 761, 606]      0.582582  \n",
       "29996  [360, 657, 381, 681]      0.368994  \n",
       "29997  [537, 737, 567, 783]      0.350740  \n",
       "29998  [420, 402, 466, 449]     34.593478  \n",
       "29999  [489, 481, 592, 579]      0.526438  \n",
       "\n",
       "[30000 rows x 6 columns]"
      ]
     },
     "execution_count": 5,
     "metadata": {},
     "output_type": "execute_result"
    }
   ],
   "source": [
    "val_labels"
   ]
  },
  {
   "cell_type": "code",
   "execution_count": 5,
   "metadata": {},
   "outputs": [
    {
     "data": {
      "text/html": [
       "<div>\n",
       "<style scoped>\n",
       "    .dataframe tbody tr th:only-of-type {\n",
       "        vertical-align: middle;\n",
       "    }\n",
       "\n",
       "    .dataframe tbody tr th {\n",
       "        vertical-align: top;\n",
       "    }\n",
       "\n",
       "    .dataframe thead th {\n",
       "        text-align: right;\n",
       "    }\n",
       "</style>\n",
       "<table border=\"1\" class=\"dataframe\">\n",
       "  <thead>\n",
       "    <tr style=\"text-align: right;\">\n",
       "      <th></th>\n",
       "      <th>class</th>\n",
       "      <th>id</th>\n",
       "      <th>image</th>\n",
       "      <th>depth</th>\n",
       "      <th>bbox</th>\n",
       "      <th>illumination</th>\n",
       "    </tr>\n",
       "  </thead>\n",
       "  <tbody>\n",
       "    <tr>\n",
       "      <th>0</th>\n",
       "      <td>CubeSat</td>\n",
       "      <td>10299</td>\n",
       "      <td>image_10299_img.png</td>\n",
       "      <td>image_10299_depth.png</td>\n",
       "      <td>[296, 536, 353, 581]</td>\n",
       "      <td>0.126822</td>\n",
       "    </tr>\n",
       "    <tr>\n",
       "      <th>1</th>\n",
       "      <td>Jason</td>\n",
       "      <td>12016</td>\n",
       "      <td>image_12016_img.png</td>\n",
       "      <td>image_12016_depth.png</td>\n",
       "      <td>[580, 434, 712, 753]</td>\n",
       "      <td>0.508580</td>\n",
       "    </tr>\n",
       "    <tr>\n",
       "      <th>2</th>\n",
       "      <td>Debris</td>\n",
       "      <td>6332</td>\n",
       "      <td>image_06332_img.png</td>\n",
       "      <td>image_06332_depth.png</td>\n",
       "      <td>[437, 406, 503, 463]</td>\n",
       "      <td>0.103017</td>\n",
       "    </tr>\n",
       "    <tr>\n",
       "      <th>3</th>\n",
       "      <td>TRMM</td>\n",
       "      <td>2173</td>\n",
       "      <td>image_02173_img.png</td>\n",
       "      <td>image_02173_depth.png</td>\n",
       "      <td>[0, 151, 312, 538]</td>\n",
       "      <td>0.883734</td>\n",
       "    </tr>\n",
       "    <tr>\n",
       "      <th>4</th>\n",
       "      <td>Cloudsat</td>\n",
       "      <td>11207</td>\n",
       "      <td>image_11207_img.png</td>\n",
       "      <td>image_11207_depth.png</td>\n",
       "      <td>[450, 425, 509, 481]</td>\n",
       "      <td>3.576220</td>\n",
       "    </tr>\n",
       "    <tr>\n",
       "      <th>...</th>\n",
       "      <td>...</td>\n",
       "      <td>...</td>\n",
       "      <td>...</td>\n",
       "      <td>...</td>\n",
       "      <td>...</td>\n",
       "      <td>...</td>\n",
       "    </tr>\n",
       "    <tr>\n",
       "      <th>89995</th>\n",
       "      <td>Debris</td>\n",
       "      <td>24362</td>\n",
       "      <td>image_24362_img.png</td>\n",
       "      <td>image_24362_depth.png</td>\n",
       "      <td>[447, 440, 501, 478]</td>\n",
       "      <td>53.173303</td>\n",
       "    </tr>\n",
       "    <tr>\n",
       "      <th>89996</th>\n",
       "      <td>Sentinel-6</td>\n",
       "      <td>8834</td>\n",
       "      <td>image_08834_img.png</td>\n",
       "      <td>image_08834_depth.png</td>\n",
       "      <td>[291, 209, 485, 407]</td>\n",
       "      <td>0.728906</td>\n",
       "    </tr>\n",
       "    <tr>\n",
       "      <th>89997</th>\n",
       "      <td>Cloudsat</td>\n",
       "      <td>226</td>\n",
       "      <td>image_00226_img.png</td>\n",
       "      <td>image_00226_depth.png</td>\n",
       "      <td>[506, 472, 556, 519]</td>\n",
       "      <td>88.962500</td>\n",
       "    </tr>\n",
       "    <tr>\n",
       "      <th>89998</th>\n",
       "      <td>Jason</td>\n",
       "      <td>11172</td>\n",
       "      <td>image_11172_img.png</td>\n",
       "      <td>image_11172_depth.png</td>\n",
       "      <td>[422, 438, 515, 631]</td>\n",
       "      <td>36.451119</td>\n",
       "    </tr>\n",
       "    <tr>\n",
       "      <th>89999</th>\n",
       "      <td>TRMM</td>\n",
       "      <td>3816</td>\n",
       "      <td>image_03816_img.png</td>\n",
       "      <td>image_03816_depth.png</td>\n",
       "      <td>[521, 293, 714, 442]</td>\n",
       "      <td>0.159690</td>\n",
       "    </tr>\n",
       "  </tbody>\n",
       "</table>\n",
       "<p>90000 rows × 6 columns</p>\n",
       "</div>"
      ],
      "text/plain": [
       "            class     id                image                  depth  \\\n",
       "0         CubeSat  10299  image_10299_img.png  image_10299_depth.png   \n",
       "1           Jason  12016  image_12016_img.png  image_12016_depth.png   \n",
       "2          Debris   6332  image_06332_img.png  image_06332_depth.png   \n",
       "3            TRMM   2173  image_02173_img.png  image_02173_depth.png   \n",
       "4        Cloudsat  11207  image_11207_img.png  image_11207_depth.png   \n",
       "...           ...    ...                  ...                    ...   \n",
       "89995      Debris  24362  image_24362_img.png  image_24362_depth.png   \n",
       "89996  Sentinel-6   8834  image_08834_img.png  image_08834_depth.png   \n",
       "89997    Cloudsat    226  image_00226_img.png  image_00226_depth.png   \n",
       "89998       Jason  11172  image_11172_img.png  image_11172_depth.png   \n",
       "89999        TRMM   3816  image_03816_img.png  image_03816_depth.png   \n",
       "\n",
       "                       bbox  illumination  \n",
       "0      [296, 536, 353, 581]      0.126822  \n",
       "1      [580, 434, 712, 753]      0.508580  \n",
       "2      [437, 406, 503, 463]      0.103017  \n",
       "3        [0, 151, 312, 538]      0.883734  \n",
       "4      [450, 425, 509, 481]      3.576220  \n",
       "...                     ...           ...  \n",
       "89995  [447, 440, 501, 478]     53.173303  \n",
       "89996  [291, 209, 485, 407]      0.728906  \n",
       "89997  [506, 472, 556, 519]     88.962500  \n",
       "89998  [422, 438, 515, 631]     36.451119  \n",
       "89999  [521, 293, 714, 442]      0.159690  \n",
       "\n",
       "[90000 rows x 6 columns]"
      ]
     },
     "execution_count": 5,
     "metadata": {},
     "output_type": "execute_result"
    }
   ],
   "source": [
    "train_labels"
   ]
  },
  {
   "cell_type": "code",
   "execution_count": 6,
   "metadata": {},
   "outputs": [],
   "source": [
    "labels = train_labels[\"class\"].unique()\n",
    "labels.sort()\n",
    "label_map = {x: i for i, x in enumerate(labels)}"
   ]
  },
  {
   "cell_type": "code",
   "execution_count": 7,
   "metadata": {},
   "outputs": [],
   "source": [
    "train_labels[\"class_map\"] = train_labels[\"class\"].apply(lambda x: label_map[x])\n",
    "val_labels[\"class_map\"] = val_labels[\"class\"].apply(lambda x: label_map[x])"
   ]
  },
  {
   "cell_type": "code",
   "execution_count": 8,
   "metadata": {},
   "outputs": [
    {
     "data": {
      "text/html": [
       "<div>\n",
       "<style scoped>\n",
       "    .dataframe tbody tr th:only-of-type {\n",
       "        vertical-align: middle;\n",
       "    }\n",
       "\n",
       "    .dataframe tbody tr th {\n",
       "        vertical-align: top;\n",
       "    }\n",
       "\n",
       "    .dataframe thead th {\n",
       "        text-align: right;\n",
       "    }\n",
       "</style>\n",
       "<table border=\"1\" class=\"dataframe\">\n",
       "  <thead>\n",
       "    <tr style=\"text-align: right;\">\n",
       "      <th></th>\n",
       "      <th>class</th>\n",
       "      <th>id</th>\n",
       "      <th>image</th>\n",
       "      <th>depth</th>\n",
       "      <th>bbox</th>\n",
       "      <th>illumination</th>\n",
       "      <th>class_map</th>\n",
       "    </tr>\n",
       "  </thead>\n",
       "  <tbody>\n",
       "    <tr>\n",
       "      <th>0</th>\n",
       "      <td>Cloudsat</td>\n",
       "      <td>10563</td>\n",
       "      <td>image_10563_img.png</td>\n",
       "      <td>image_10563_depth.png</td>\n",
       "      <td>[262, 283, 323, 367]</td>\n",
       "      <td>81.036141</td>\n",
       "      <td>4</td>\n",
       "    </tr>\n",
       "    <tr>\n",
       "      <th>1</th>\n",
       "      <td>Terra</td>\n",
       "      <td>6536</td>\n",
       "      <td>image_06536_img.png</td>\n",
       "      <td>image_06536_depth.png</td>\n",
       "      <td>[476, 469, 542, 497]</td>\n",
       "      <td>0.244364</td>\n",
       "      <td>10</td>\n",
       "    </tr>\n",
       "    <tr>\n",
       "      <th>2</th>\n",
       "      <td>Sentinel-6</td>\n",
       "      <td>4676</td>\n",
       "      <td>image_04676_img.png</td>\n",
       "      <td>image_04676_depth.png</td>\n",
       "      <td>[520, 445, 584, 516]</td>\n",
       "      <td>0.126758</td>\n",
       "      <td>8</td>\n",
       "    </tr>\n",
       "    <tr>\n",
       "      <th>3</th>\n",
       "      <td>Sentinel-6</td>\n",
       "      <td>2965</td>\n",
       "      <td>image_02965_img.png</td>\n",
       "      <td>image_02965_depth.png</td>\n",
       "      <td>[377, 606, 692, 945]</td>\n",
       "      <td>0.686202</td>\n",
       "      <td>8</td>\n",
       "    </tr>\n",
       "    <tr>\n",
       "      <th>4</th>\n",
       "      <td>CubeSat</td>\n",
       "      <td>3907</td>\n",
       "      <td>image_03907_img.png</td>\n",
       "      <td>image_03907_depth.png</td>\n",
       "      <td>[523, 421, 560, 464]</td>\n",
       "      <td>0.480803</td>\n",
       "      <td>5</td>\n",
       "    </tr>\n",
       "    <tr>\n",
       "      <th>...</th>\n",
       "      <td>...</td>\n",
       "      <td>...</td>\n",
       "      <td>...</td>\n",
       "      <td>...</td>\n",
       "      <td>...</td>\n",
       "      <td>...</td>\n",
       "      <td>...</td>\n",
       "    </tr>\n",
       "    <tr>\n",
       "      <th>29995</th>\n",
       "      <td>CubeSat</td>\n",
       "      <td>4350</td>\n",
       "      <td>image_04350_img.png</td>\n",
       "      <td>image_04350_depth.png</td>\n",
       "      <td>[714, 573, 761, 606]</td>\n",
       "      <td>0.582582</td>\n",
       "      <td>5</td>\n",
       "    </tr>\n",
       "    <tr>\n",
       "      <th>29996</th>\n",
       "      <td>CubeSat</td>\n",
       "      <td>7779</td>\n",
       "      <td>image_07779_img.png</td>\n",
       "      <td>image_07779_depth.png</td>\n",
       "      <td>[360, 657, 381, 681]</td>\n",
       "      <td>0.368994</td>\n",
       "      <td>5</td>\n",
       "    </tr>\n",
       "    <tr>\n",
       "      <th>29997</th>\n",
       "      <td>CubeSat</td>\n",
       "      <td>5426</td>\n",
       "      <td>image_05426_img.png</td>\n",
       "      <td>image_05426_depth.png</td>\n",
       "      <td>[537, 737, 567, 783]</td>\n",
       "      <td>0.350740</td>\n",
       "      <td>5</td>\n",
       "    </tr>\n",
       "    <tr>\n",
       "      <th>29998</th>\n",
       "      <td>Cloudsat</td>\n",
       "      <td>6952</td>\n",
       "      <td>image_06952_img.png</td>\n",
       "      <td>image_06952_depth.png</td>\n",
       "      <td>[420, 402, 466, 449]</td>\n",
       "      <td>34.593478</td>\n",
       "      <td>4</td>\n",
       "    </tr>\n",
       "    <tr>\n",
       "      <th>29999</th>\n",
       "      <td>Aquarius</td>\n",
       "      <td>4615</td>\n",
       "      <td>image_04615_img.png</td>\n",
       "      <td>image_04615_depth.png</td>\n",
       "      <td>[489, 481, 592, 579]</td>\n",
       "      <td>0.526438</td>\n",
       "      <td>1</td>\n",
       "    </tr>\n",
       "  </tbody>\n",
       "</table>\n",
       "<p>30000 rows × 7 columns</p>\n",
       "</div>"
      ],
      "text/plain": [
       "            class     id                image                  depth  \\\n",
       "0        Cloudsat  10563  image_10563_img.png  image_10563_depth.png   \n",
       "1           Terra   6536  image_06536_img.png  image_06536_depth.png   \n",
       "2      Sentinel-6   4676  image_04676_img.png  image_04676_depth.png   \n",
       "3      Sentinel-6   2965  image_02965_img.png  image_02965_depth.png   \n",
       "4         CubeSat   3907  image_03907_img.png  image_03907_depth.png   \n",
       "...           ...    ...                  ...                    ...   \n",
       "29995     CubeSat   4350  image_04350_img.png  image_04350_depth.png   \n",
       "29996     CubeSat   7779  image_07779_img.png  image_07779_depth.png   \n",
       "29997     CubeSat   5426  image_05426_img.png  image_05426_depth.png   \n",
       "29998    Cloudsat   6952  image_06952_img.png  image_06952_depth.png   \n",
       "29999    Aquarius   4615  image_04615_img.png  image_04615_depth.png   \n",
       "\n",
       "                       bbox  illumination  class_map  \n",
       "0      [262, 283, 323, 367]     81.036141          4  \n",
       "1      [476, 469, 542, 497]      0.244364         10  \n",
       "2      [520, 445, 584, 516]      0.126758          8  \n",
       "3      [377, 606, 692, 945]      0.686202          8  \n",
       "4      [523, 421, 560, 464]      0.480803          5  \n",
       "...                     ...           ...        ...  \n",
       "29995  [714, 573, 761, 606]      0.582582          5  \n",
       "29996  [360, 657, 381, 681]      0.368994          5  \n",
       "29997  [537, 737, 567, 783]      0.350740          5  \n",
       "29998  [420, 402, 466, 449]     34.593478          4  \n",
       "29999  [489, 481, 592, 579]      0.526438          1  \n",
       "\n",
       "[30000 rows x 7 columns]"
      ]
     },
     "execution_count": 8,
     "metadata": {},
     "output_type": "execute_result"
    }
   ],
   "source": [
    "val_labels"
   ]
  },
  {
   "cell_type": "code",
   "execution_count": 8,
   "metadata": {},
   "outputs": [],
   "source": [
    "np.save(\"/data/ICIP-2021/processed3/train.npy\", train_labels[\"class_map\"].values)\n",
    "np.save(\"/data/ICIP-2021/processed3/val.npy\", val_labels[\"class_map\"].values)"
   ]
  },
  {
   "cell_type": "code",
   "execution_count": 31,
   "metadata": {},
   "outputs": [],
   "source": [
    "rgbs = []\n",
    "depths = []\n",
    "resize = torchvision.transforms.Resize((512, 512))\n",
    "togs = color.RgbToGrayscale()\n",
    "toluv = color.RgbToLuv()\n",
    "\n",
    "for i, (class_, rgb_name, depth_name, bbox) in enumerate(zip(train_labels[\"class\"], train_labels[\"image\"], train_labels[\"depth\"], train_labels[\"bbox\"])):\n",
    "    rgb = Image.open(f\"/data/ICIP-2021/train/train_rgb/{class_}/{rgb_name}\")\n",
    "\n",
    "    rgb = torch.tensor(np.array(rgb), dtype=torch.float).moveaxis(2, 0)\n",
    "\n",
    "    xmin, ymin, xmax, ymax = bbox[0], bbox[1], bbox[2], bbox[3]\n",
    "    rgb = resize(rgb[:, xmin:xmax, ymin:ymax]) / 255\n",
    "\n",
    "    np.save(f\"/data/ICIP-2021/processed3/train/{str(i).zfill(6)}.npy\", rgb.numpy())"
   ]
  },
  {
   "cell_type": "code",
   "execution_count": 32,
   "metadata": {},
   "outputs": [],
   "source": [
    "resize = torchvision.transforms.Resize((512, 512))\n",
    "togs = color.RgbToGrayscale()\n",
    "toluv = color.RgbToLuv()\n",
    "\n",
    "for i, (class_, rgb_name, depth_name, bbox) in enumerate(zip(val_labels[\"class\"], val_labels[\"image\"], val_labels[\"depth\"], val_labels[\"bbox\"])):\n",
    "    rgb = Image.open(f\"/data/ICIP-2021/validate/validate_rgb/{class_}/{rgb_name}\")\n",
    "\n",
    "    rgb = torch.tensor(np.array(rgb), dtype=torch.float).moveaxis(2, 0)\n",
    "\n",
    "    xmin, ymin, xmax, ymax = bbox[0], bbox[1], bbox[2], bbox[3]\n",
    "    rgb = resize(rgb[:, xmin:xmax, ymin:ymax]) / 255\n",
    "\n",
    "    np.save(f\"/data/ICIP-2021/processed3/val/{str(i).zfill(6)}.npy\", rgb.numpy())"
   ]
  },
  {
   "cell_type": "markdown",
   "metadata": {},
   "source": [
    "## Mean and Std"
   ]
  },
  {
   "cell_type": "code",
   "execution_count": 33,
   "metadata": {},
   "outputs": [],
   "source": [
    "mean = np.zeros(3)\n",
    "std = np.zeros(3)\n",
    "for i in range(len(train_labels[\"bbox\"])):\n",
    "    img = np.load(f\"/data/ICIP-2021/processed3/train/{str(i).zfill(6)}.npy\")\n",
    "    mean += np.mean(img, axis=(1, 2))\n",
    "    std += np.std(img, axis=(1, 2))"
   ]
  },
  {
   "cell_type": "code",
   "execution_count": 34,
   "metadata": {},
   "outputs": [
    {
     "data": {
      "text/plain": [
       "(array([0.09430549, 0.09299065, 0.09526419]),\n",
       " array([0.09868433, 0.09484387, 0.09236576]))"
      ]
     },
     "execution_count": 34,
     "metadata": {},
     "output_type": "execute_result"
    }
   ],
   "source": [
    "mean / len(train_labels[\"bbox\"]), std / len(train_labels[\"bbox\"])"
   ]
  },
  {
   "cell_type": "code",
   "execution_count": 164,
   "metadata": {},
   "outputs": [],
   "source": [
    "mean = np.zeros(3)\n",
    "std = np.zeros(3)\n",
    "for i in range(len(val_labels[\"bbox\"])):\n",
    "    img = np.load(f\"/data/ICIP-2021/processed/val/{str(i).zfill(6)}.npy\")\n",
    "    mean += np.mean(img, axis=(1, 2))\n",
    "    std += np.std(img, axis=(1, 2))"
   ]
  },
  {
   "cell_type": "code",
   "execution_count": 165,
   "metadata": {},
   "outputs": [
    {
     "data": {
      "text/plain": [
       "(array([9.81587756, 0.097757  , 0.61005476]),\n",
       " array([9.60466818, 0.09053227, 0.33148834]))"
      ]
     },
     "execution_count": 165,
     "metadata": {},
     "output_type": "execute_result"
    }
   ],
   "source": [
    "mean / len(val_labels[\"bbox\"]), std / len(val_labels[\"bbox\"])"
   ]
  },
  {
   "cell_type": "markdown",
   "metadata": {},
   "source": [
    "## Same range over channels and compress"
   ]
  },
  {
   "cell_type": "code",
   "execution_count": 22,
   "metadata": {},
   "outputs": [],
   "source": [
    "mean = np.zeros(3)\n",
    "std = np.zeros(3)\n",
    "imgs = []\n",
    "\n",
    "for i in range(len(train_labels[\"bbox\"])):\n",
    "    img = np.load(f\"/data/ICIP-2021/processed3/train/{str(i).zfill(6)}.npy\")\n",
    "    # img[0] /= 100\n",
    "    img *= 255\n",
    "    imgs.append(torchvision.transforms.Resize((32, 32))(torch.from_numpy(img.astype(np.uint8))))\n",
    "\n",
    "    if (i + 1) % 1000 == 0:\n",
    "        np.savez_compressed(f\"/data/ICIP-2021/processed5/train/{str(i // 1000).zfill(5)}.npz\", *imgs)\n",
    "        del imgs\n",
    "        imgs = []"
   ]
  },
  {
   "cell_type": "code",
   "execution_count": null,
   "metadata": {},
   "outputs": [],
   "source": [
    "mean = np.zeros(3)\n",
    "std = np.zeros(3)\n",
    "for i in range(90):\n",
    "    imgs = np.load(f\"/data/ICIP-2021/processed2/train/{str(i).zfill(5)}.npz\")\n",
    "    for ii in range(1000):\n",
    "        img = getattr(imgs.f, f\"arr_{ii}\").astype(np.float32) / 255\n",
    "        mean += np.mean(img, axis=(1, 2))\n",
    "        std += np.std(img, axis=(1, 2))"
   ]
  },
  {
   "cell_type": "code",
   "execution_count": 6,
   "metadata": {},
   "outputs": [
    {
     "data": {
      "text/plain": [
       "(array([0.09244801, 0.09198833, 0.60900891]),\n",
       " array([0.10071791, 0.09504412, 0.33186111]))"
      ]
     },
     "execution_count": 6,
     "metadata": {},
     "output_type": "execute_result"
    }
   ],
   "source": [
    "mean / len(train_labels[\"bbox\"]), std / len(train_labels[\"bbox\"])"
   ]
  },
  {
   "cell_type": "code",
   "execution_count": 25,
   "metadata": {},
   "outputs": [],
   "source": [
    "mean = np.zeros(3)\n",
    "std = np.zeros(3)\n",
    "imgs = []\n",
    "\n",
    "for i in range(len(val_labels[\"bbox\"])):\n",
    "    img = np.load(f\"/data/ICIP-2021/processed3/val/{str(i).zfill(6)}.npy\")\n",
    "    # img[0] /= 100\n",
    "    img *= 255\n",
    "    imgs.append(torchvision.transforms.Resize((32, 32))(torch.from_numpy(img.astype(np.uint8))))\n",
    "\n",
    "    if (i + 1) % 1000 == 0:\n",
    "        np.savez_compressed(f\"/data/ICIP-2021/processed5/val/{str(i // 1000).zfill(5)}.npz\", *imgs)\n",
    "        del imgs\n",
    "        imgs = []"
   ]
  },
  {
   "cell_type": "code",
   "execution_count": 124,
   "metadata": {},
   "outputs": [],
   "source": [
    "mean = np.zeros(3)\n",
    "std = np.zeros(3)\n",
    "for i in range(30):\n",
    "    imgs = np.load(f\"/data/ICIP-2021/processed2/val/{str(i).zfill(5)}.npz\")\n",
    "    for ii in range(1000):\n",
    "        img = getattr(imgs.f, f\"arr_{ii}\").astype(np.float32) / 255\n",
    "        \n",
    "        mean += np.mean(img, axis=(1, 2))\n",
    "        std += np.std(img, axis=(1, 2))"
   ]
  },
  {
   "cell_type": "code",
   "execution_count": 125,
   "metadata": {},
   "outputs": [
    {
     "data": {
      "text/plain": [
       "(array([0.09638784, 0.09602991, 0.60852957]),\n",
       " array([0.09595593, 0.09040637, 0.33188107]))"
      ]
     },
     "execution_count": 125,
     "metadata": {},
     "output_type": "execute_result"
    }
   ],
   "source": [
    "mean / len(val_labels[\"bbox\"]), std / len(val_labels[\"bbox\"])"
   ]
  }
 ],
 "metadata": {
  "kernelspec": {
   "display_name": "perturbations",
   "language": "python",
   "name": "python3"
  },
  "language_info": {
   "codemirror_mode": {
    "name": "ipython",
    "version": 3
   },
   "file_extension": ".py",
   "mimetype": "text/x-python",
   "name": "python",
   "nbconvert_exporter": "python",
   "pygments_lexer": "ipython3",
   "version": "3.10.12"
  },
  "orig_nbformat": 4
 },
 "nbformat": 4,
 "nbformat_minor": 2
}
