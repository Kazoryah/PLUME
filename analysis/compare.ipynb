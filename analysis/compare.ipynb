{
 "cells": [
  {
   "cell_type": "code",
   "execution_count": null,
   "metadata": {
    "vscode": {
     "languageId": "r"
    }
   },
   "outputs": [],
   "source": [
    "library(ggplot2)\n",
    "library(ggrepel)\n",
    "library(ggthemes)\n",
    "library(scales)\n",
    "library(ggh4x)\n",
    "library(gtable)\n",
    "library(grid)"
   ]
  },
  {
   "cell_type": "code",
   "execution_count": null,
   "metadata": {
    "vscode": {
     "languageId": "r"
    }
   },
   "outputs": [],
   "source": [
    "library(extrafont)\n",
    "# font_import()\n",
    "loadfonts(device=\"postscript\")\n",
    "loadfonts(device=\"pdf\")"
   ]
  },
  {
   "cell_type": "code",
   "execution_count": 3,
   "metadata": {
    "vscode": {
     "languageId": "r"
    }
   },
   "outputs": [],
   "source": [
    "ThemePublication <- function(base_size = 14, base_family = \"Helvetica\") {\n",
    "      theme_foundation(base_size = base_size, base_family = base_family) +\n",
    "      # theme_bw() +\n",
    "      theme(plot.title = element_text(\n",
    "                  # face = \"bold\", size = rel(1.2), hjust = 0.5\n",
    "                  size = rel(1.2), hjust = 0.5, family= base_family, colour=\"#262626\", vjust=3\n",
    "            ),\n",
    "            text = element_text(family=base_family, size=14, colour=\"#262626\"),\n",
    "            panel.background = element_rect(colour = NA),\n",
    "            plot.background = element_rect(colour = NA),\n",
    "            # panel.border = element_rect(colour = \"#d2d3d5\"),\n",
    "            panel.border = element_rect(colour = NA),\n",
    "            # axis.title = element_text(face = \"bold\", size = rel(1)),\n",
    "            axis.title = element_text(size = rel(1), colour=\"#262626\"),\n",
    "            axis.title.y = element_text(angle = 90, vjust = 2, colour=\"#262626\"),\n",
    "            axis.title.x = element_text(vjust = -0.2, colour=\"#262626\"),\n",
    "            axis.text = element_text(colour=\"#262626\"), \n",
    "            # axis.line = element_line(colour = \"#595757\"),\n",
    "            axis.line = element_line(colour = \"#262626\"),\n",
    "            axis.ticks = element_line(colour=\"#262626\"),\n",
    "            # panel.grid.major = element_line(colour = \"#d2d3d5\"),\n",
    "            panel.grid.major = element_line(colour = \"#f2f3f5\"),\n",
    "            panel.grid.minor = element_blank(),\n",
    "            legend.key = element_rect(colour = NA),\n",
    "            legend.position = \"bottom\",\n",
    "            legend.direction = \"horizontal\",\n",
    "            legend.key.size= unit(0.5, \"cm\"),\n",
    "            legend.spacing = unit(0, \"cm\"),\n",
    "            legend.title = element_text(face = \"italic\", colour=\"#262626\"),\n",
    "            plot.margin = unit(c(10,5,5,5),\"mm\"),\n",
    "            # strip.background = element_rect(\n",
    "            #       colour = \"#d2d3d5\", fill = \"#d2d3d5\"\n",
    "            # ),\n",
    "            strip.background = element_blank(),\n",
    "            # strip.text = element_text(face = \"bold\")\n",
    "            # strip.text = element_blank()#element_text(colour=\"#262626\")\n",
    "            # #f0f0f0\n",
    "      )\n",
    "}\n",
    "\n",
    "ScalePublication <- function(ngroups = 3, ...){\n",
    "      # colours <- hue_pal()(ngroups)\n",
    "      colours <- c('#4c72b0', '#dd8452', '#55a868', '#c44e52', '#8172b3', '#937860', '#da8bc3', '#8c8c8c', '#ccb974', '#64b5cd')[seq(ngroups)]\n",
    "      # discrete_scale(\"color\", \"Publication\", manual_pal(values = colours), ...)\n",
    "      discrete_scale(\n",
    "            \"fill\", \"Publication\", manual_pal(values = alpha(colours, 0.4)), ...\n",
    "      )\n",
    "}\n",
    "ScalePublication12 <- function(colours, ...){\n",
    "      # colours <- hue_pal()(ngroups)\n",
    "      # colours <- c('#4c72b0', '#dd8452', '#55a868', '#c44e52', '#8172b3', '#937860', '#da8bc3', '#8c8c8c', '#ccb974', '#64b5cd')[seq(ngroups)]\n",
    "      # discrete_scale(\"color\", \"Publication\", manual_pal(values = colours), ...)\n",
    "      discrete_scale(\n",
    "            \"fill\", \"Publication\", manual_pal(values = alpha(colours, 0.4)), ...\n",
    "      )\n",
    "}\n",
    "ScalePublication13 <- function(colours, ...){\n",
    "      # colours <- hue_pal()(ngroups)\n",
    "      # colours <- c('#4c72b0', '#dd8452', '#55a868', '#c44e52', '#8172b3', '#937860', '#da8bc3', '#8c8c8c', '#ccb974', '#64b5cd')[seq(ngroups)]\n",
    "      # discrete_scale(\"color\", \"Publication\", manual_pal(values = colours), ...)\n",
    "      discrete_scale(\n",
    "            \"label\", \"Publication\", manual_pal(values = alpha(colours, 0.4)), ...\n",
    "      )\n",
    "}\n",
    "ScalePublication2 <- function(ngroups = 3, ...){\n",
    "      # colours <- hue_pal()(ngroups)\n",
    "      colours <- c('#4c72b0', '#dd8452', '#55a868', '#c44e52', '#8172b3', '#937860', '#da8bc3', '#8c8c8c', '#ccb974', '#64b5cd')[seq(ngroups)]\n",
    "      discrete_scale(\"color\", \"Publication\", manual_pal(values = colours), ...)\n",
    "}\n",
    "ScalePublication22 <- function(colours, ...){\n",
    "      # colours <- hue_pal()(ngroups)\n",
    "      # colours <- c('#4c72b0', '#dd8452', '#55a868', '#c44e52', '#8172b3', '#937860', '#da8bc3', '#8c8c8c', '#ccb974', '#64b5cd')[seq(ngroups)]\n",
    "      discrete_scale(\"color\", \"Publication\", manual_pal(values = colours), ...)\n",
    "}\n",
    "\n",
    "ScalePublication3 <- function(remove, ...){\n",
    "      # colours <- hue_pal()(ngroups)\n",
    "      colours <- c('#4c72b0', '#dd8452', '#55a868', '#c44e52', '#8172b3', '#937860', '#da8bc3', '#8c8c8c', '#ccb974', '#64b5cd')[-1 - remove]\n",
    "      # discrete_scale(\"color\", \"Publication\", manual_pal(values = colours), ...)\n",
    "      discrete_scale(\n",
    "            \"fill\", \"Publication\", manual_pal(values = alpha(colours, 0.7)), ...\n",
    "      )\n",
    "}\n",
    "ScalePublication4 <- function(remove, ...){\n",
    "      # colours <- hue_pal()(ngroups)\n",
    "      colours <- c('#4c72b0', '#dd8452', '#55a868', '#c44e52', '#8172b3', '#937860', '#da8bc3', '#8c8c8c', '#ccb974', '#64b5cd')[-1 - remove]\n",
    "      # discrete_scale(\"color\", \"Publication\", manual_pal(values = colours), ...)\n",
    "      discrete_scale(\n",
    "            \"colour\", \"Publication\", manual_pal(values = colours), ...\n",
    "      )\n",
    "}\n",
    "\n",
    "TransparentBackground <- function(remove.grid = TRUE,...){\n",
    "      #https://www.r-bloggers.com/2022/07/ggplot2-transparent-background-quick-guide/\n",
    "      a <- theme(\n",
    "            panel.background = element_rect(fill = 'transparent'), #transparent panel bg\n",
    "            plot.background = element_rect(fill = 'transparent', color=NA), #transparent plot bg\n",
    "            # legend.background = element_rect(fill='transparent'), #transparent legend bg\n",
    "            # legend.box.background = element_rect(fill='transparent') #transparent legend panel\n",
    "            legend.background = element_blank(),\n",
    "            legend.key = element_blank()\n",
    "      )\n",
    "      if (remove.grid) {\n",
    "            a <- a + theme(\n",
    "                  panel.grid.major.x = element_blank(), #remove major gridlines\n",
    "                  panel.grid.minor = element_blank() #remove minor gridlines\n",
    "            )\n",
    "      }\n",
    "\n",
    "      a\n",
    "}\n",
    "\n",
    "# https://rpubs.com/Koundy/71792\n",
    "# http://www.sthda.com/english/wiki/ggplot2-box-plot-quick-start-guide-r-software-and-data-visualization\n",
    "# https://stackoverflow.com/questions/14604439/plot-multiple-boxplot-in-one-graph\n",
    "# https://r-graph-gallery.com/ggplot2-color.html\n",
    "# http://rstudio-pubs-static.s3.amazonaws.com/5312_98fc1aba2d5740dd849a5ab797cc2c8d.html"
   ]
  },
  {
   "cell_type": "code",
   "execution_count": 8,
   "metadata": {
    "vscode": {
     "languageId": "r"
    }
   },
   "outputs": [
    {
     "data": {
      "text/html": [
       "<table class=\"dataframe\">\n",
       "<caption>A data.frame: 5 × 15</caption>\n",
       "<thead>\n",
       "\t<tr><th></th><th scope=col>method</th><th scope=col>origin</th><th scope=col>AUC_Plane</th><th scope=col>AUC_Car</th><th scope=col>AUC_Bird</th><th scope=col>AUC_Cat</th><th scope=col>AUC_Deer</th><th scope=col>AUC_Dog</th><th scope=col>AUC_Frog</th><th scope=col>AUC_Horse</th><th scope=col>AUC_Ship</th><th scope=col>AUC_Truck</th><th scope=col>AUC_Mean</th><th scope=col>year</th><th scope=col>category</th></tr>\n",
       "\t<tr><th></th><th scope=col>&lt;chr&gt;</th><th scope=col>&lt;chr&gt;</th><th scope=col>&lt;dbl&gt;</th><th scope=col>&lt;dbl&gt;</th><th scope=col>&lt;dbl&gt;</th><th scope=col>&lt;dbl&gt;</th><th scope=col>&lt;dbl&gt;</th><th scope=col>&lt;dbl&gt;</th><th scope=col>&lt;dbl&gt;</th><th scope=col>&lt;dbl&gt;</th><th scope=col>&lt;dbl&gt;</th><th scope=col>&lt;dbl&gt;</th><th scope=col>&lt;dbl&gt;</th><th scope=col>&lt;int&gt;</th><th scope=col>&lt;chr&gt;</th></tr>\n",
       "</thead>\n",
       "<tbody>\n",
       "\t<tr><th scope=row>1</th><td>CutPaste </td><td>self     </td><td> NaN</td><td> NaN</td><td> NaN</td><td> NaN</td><td> NaN</td><td> NaN</td><td> NaN</td><td> NaN</td><td> NaN</td><td> NaN</td><td>69.4</td><td>2021</td><td>[localisation]</td></tr>\n",
       "\t<tr><th scope=row>2</th><td>SimpleNet</td><td>self     </td><td> NaN</td><td> NaN</td><td> NaN</td><td> NaN</td><td> NaN</td><td> NaN</td><td> NaN</td><td> NaN</td><td> NaN</td><td> NaN</td><td>86.5</td><td>2023</td><td>[localisation]</td></tr>\n",
       "\t<tr><th scope=row>3</th><td>DROC     </td><td>self     </td><td> NaN</td><td> NaN</td><td> NaN</td><td> NaN</td><td> NaN</td><td> NaN</td><td> NaN</td><td> NaN</td><td> NaN</td><td> NaN</td><td>92.5</td><td>2021</td><td>[pose_bias]   </td></tr>\n",
       "\t<tr><th scope=row>4</th><td>AnoGAN   </td><td>UniCon-HA</td><td>67.1</td><td>54.7</td><td>52.9</td><td>54.5</td><td>65.1</td><td>60.3</td><td>58.5</td><td>62.5</td><td>75.8</td><td>66.5</td><td>61.8</td><td>2017</td><td>[other]       </td></tr>\n",
       "\t<tr><th scope=row>5</th><td>Geom     </td><td>UniCon-HA</td><td>74.7</td><td>95.7</td><td>78.1</td><td>72.4</td><td>87.8</td><td>87.8</td><td>83.4</td><td>95.5</td><td>93.3</td><td>91.3</td><td>86.0</td><td>2018</td><td>[pose_bias]   </td></tr>\n",
       "</tbody>\n",
       "</table>\n"
      ],
      "text/latex": [
       "A data.frame: 5 × 15\n",
       "\\begin{tabular}{r|lllllllllllllll}\n",
       "  & method & origin & AUC\\_Plane & AUC\\_Car & AUC\\_Bird & AUC\\_Cat & AUC\\_Deer & AUC\\_Dog & AUC\\_Frog & AUC\\_Horse & AUC\\_Ship & AUC\\_Truck & AUC\\_Mean & year & category\\\\\n",
       "  & <chr> & <chr> & <dbl> & <dbl> & <dbl> & <dbl> & <dbl> & <dbl> & <dbl> & <dbl> & <dbl> & <dbl> & <dbl> & <int> & <chr>\\\\\n",
       "\\hline\n",
       "\t1 & CutPaste  & self      &  NaN &  NaN &  NaN &  NaN &  NaN &  NaN &  NaN &  NaN &  NaN &  NaN & 69.4 & 2021 & {[}localisation{]}\\\\\n",
       "\t2 & SimpleNet & self      &  NaN &  NaN &  NaN &  NaN &  NaN &  NaN &  NaN &  NaN &  NaN &  NaN & 86.5 & 2023 & {[}localisation{]}\\\\\n",
       "\t3 & DROC      & self      &  NaN &  NaN &  NaN &  NaN &  NaN &  NaN &  NaN &  NaN &  NaN &  NaN & 92.5 & 2021 & {[}pose\\_bias{]}   \\\\\n",
       "\t4 & AnoGAN    & UniCon-HA & 67.1 & 54.7 & 52.9 & 54.5 & 65.1 & 60.3 & 58.5 & 62.5 & 75.8 & 66.5 & 61.8 & 2017 & {[}other{]}       \\\\\n",
       "\t5 & Geom      & UniCon-HA & 74.7 & 95.7 & 78.1 & 72.4 & 87.8 & 87.8 & 83.4 & 95.5 & 93.3 & 91.3 & 86.0 & 2018 & {[}pose\\_bias{]}   \\\\\n",
       "\\end{tabular}\n"
      ],
      "text/markdown": [
       "\n",
       "A data.frame: 5 × 15\n",
       "\n",
       "| <!--/--> | method &lt;chr&gt; | origin &lt;chr&gt; | AUC_Plane &lt;dbl&gt; | AUC_Car &lt;dbl&gt; | AUC_Bird &lt;dbl&gt; | AUC_Cat &lt;dbl&gt; | AUC_Deer &lt;dbl&gt; | AUC_Dog &lt;dbl&gt; | AUC_Frog &lt;dbl&gt; | AUC_Horse &lt;dbl&gt; | AUC_Ship &lt;dbl&gt; | AUC_Truck &lt;dbl&gt; | AUC_Mean &lt;dbl&gt; | year &lt;int&gt; | category &lt;chr&gt; |\n",
       "|---|---|---|---|---|---|---|---|---|---|---|---|---|---|---|---|\n",
       "| 1 | CutPaste  | self      |  NaN |  NaN |  NaN |  NaN |  NaN |  NaN |  NaN |  NaN |  NaN |  NaN | 69.4 | 2021 | [localisation] |\n",
       "| 2 | SimpleNet | self      |  NaN |  NaN |  NaN |  NaN |  NaN |  NaN |  NaN |  NaN |  NaN |  NaN | 86.5 | 2023 | [localisation] |\n",
       "| 3 | DROC      | self      |  NaN |  NaN |  NaN |  NaN |  NaN |  NaN |  NaN |  NaN |  NaN |  NaN | 92.5 | 2021 | [pose_bias]    |\n",
       "| 4 | AnoGAN    | UniCon-HA | 67.1 | 54.7 | 52.9 | 54.5 | 65.1 | 60.3 | 58.5 | 62.5 | 75.8 | 66.5 | 61.8 | 2017 | [other]        |\n",
       "| 5 | Geom      | UniCon-HA | 74.7 | 95.7 | 78.1 | 72.4 | 87.8 | 87.8 | 83.4 | 95.5 | 93.3 | 91.3 | 86.0 | 2018 | [pose_bias]    |\n",
       "\n"
      ],
      "text/plain": [
       "  method    origin    AUC_Plane AUC_Car AUC_Bird AUC_Cat AUC_Deer AUC_Dog\n",
       "1 CutPaste  self       NaN       NaN     NaN      NaN     NaN      NaN   \n",
       "2 SimpleNet self       NaN       NaN     NaN      NaN     NaN      NaN   \n",
       "3 DROC      self       NaN       NaN     NaN      NaN     NaN      NaN   \n",
       "4 AnoGAN    UniCon-HA 67.1      54.7    52.9     54.5    65.1     60.3   \n",
       "5 Geom      UniCon-HA 74.7      95.7    78.1     72.4    87.8     87.8   \n",
       "  AUC_Frog AUC_Horse AUC_Ship AUC_Truck AUC_Mean year category      \n",
       "1  NaN      NaN       NaN      NaN      69.4     2021 [localisation]\n",
       "2  NaN      NaN       NaN      NaN      86.5     2023 [localisation]\n",
       "3  NaN      NaN       NaN      NaN      92.5     2021 [pose_bias]   \n",
       "4 58.5     62.5      75.8     66.5      61.8     2017 [other]       \n",
       "5 83.4     95.5      93.3     91.3      86.0     2018 [pose_bias]   "
      ]
     },
     "metadata": {},
     "output_type": "display_data"
    }
   ],
   "source": [
    "df <- read.csv(\"CIFAR10_1CC.csv\")\n",
    "df[seq(1, 5),]"
   ]
  },
  {
   "cell_type": "code",
   "execution_count": 9,
   "metadata": {
    "vscode": {
     "languageId": "r"
    }
   },
   "outputs": [
    {
     "data": {
      "text/html": [
       "<table class=\"dataframe\">\n",
       "<caption>A data.frame: 30 × 18</caption>\n",
       "<thead>\n",
       "\t<tr><th scope=col>method</th><th scope=col>origin</th><th scope=col>AUC_Plane</th><th scope=col>AUC_Car</th><th scope=col>AUC_Bird</th><th scope=col>AUC_Cat</th><th scope=col>AUC_Deer</th><th scope=col>AUC_Dog</th><th scope=col>AUC_Frog</th><th scope=col>AUC_Horse</th><th scope=col>AUC_Ship</th><th scope=col>AUC_Truck</th><th scope=col>AUC_Mean</th><th scope=col>year</th><th scope=col>category</th><th scope=col>category2</th><th scope=col>category3</th><th scope=col>year2</th></tr>\n",
       "\t<tr><th scope=col>&lt;chr&gt;</th><th scope=col>&lt;chr&gt;</th><th scope=col>&lt;dbl&gt;</th><th scope=col>&lt;dbl&gt;</th><th scope=col>&lt;dbl&gt;</th><th scope=col>&lt;dbl&gt;</th><th scope=col>&lt;dbl&gt;</th><th scope=col>&lt;dbl&gt;</th><th scope=col>&lt;dbl&gt;</th><th scope=col>&lt;dbl&gt;</th><th scope=col>&lt;dbl&gt;</th><th scope=col>&lt;dbl&gt;</th><th scope=col>&lt;dbl&gt;</th><th scope=col>&lt;int&gt;</th><th scope=col>&lt;chr&gt;</th><th scope=col>&lt;int&gt;</th><th scope=col>&lt;chr&gt;</th><th scope=col>&lt;fct&gt;</th></tr>\n",
       "</thead>\n",
       "<tbody>\n",
       "\t<tr><td>CutPaste   </td><td>self     </td><td> NaN</td><td> NaN</td><td> NaN</td><td> NaN</td><td> NaN</td><td> NaN</td><td> NaN</td><td> NaN</td><td> NaN</td><td> NaN</td><td>0.6940</td><td>2021</td><td>[localisation]</td><td>3</td><td>Localisation  </td><td>2021</td></tr>\n",
       "\t<tr><td>SimpleNet  </td><td>self     </td><td> NaN</td><td> NaN</td><td> NaN</td><td> NaN</td><td> NaN</td><td> NaN</td><td> NaN</td><td> NaN</td><td> NaN</td><td> NaN</td><td>0.8650</td><td>2023</td><td>[localisation]</td><td>3</td><td>Localisation  </td><td>2023</td></tr>\n",
       "\t<tr><td>DROC       </td><td>self     </td><td> NaN</td><td> NaN</td><td> NaN</td><td> NaN</td><td> NaN</td><td> NaN</td><td> NaN</td><td> NaN</td><td> NaN</td><td> NaN</td><td>0.9250</td><td>2021</td><td>[pose_bias]   </td><td>1</td><td>Rotation-based</td><td>2021</td></tr>\n",
       "\t<tr><td>AnoGAN     </td><td>UniCon-HA</td><td>67.1</td><td>54.7</td><td>52.9</td><td>54.5</td><td>65.1</td><td>60.3</td><td>58.5</td><td>62.5</td><td>75.8</td><td>66.5</td><td>0.6180</td><td>2017</td><td>[other]       </td><td>3</td><td>Baselines     </td><td>2017</td></tr>\n",
       "\t<tr><td>Geom       </td><td>UniCon-HA</td><td>74.7</td><td>95.7</td><td>78.1</td><td>72.4</td><td>87.8</td><td>87.8</td><td>83.4</td><td>95.5</td><td>93.3</td><td>91.3</td><td>0.8600</td><td>2018</td><td>[pose_bias]   </td><td>1</td><td>Rotation-based</td><td>2018</td></tr>\n",
       "\t<tr><td>Rot        </td><td>UniCon-HA</td><td>78.3</td><td>94.3</td><td>86.2</td><td>80.8</td><td>89.4</td><td>89.0</td><td>88.9</td><td>95.1</td><td>92.3</td><td>89.7</td><td>0.8840</td><td>2019</td><td>[pose_bias]   </td><td>1</td><td>Rotation-based</td><td>2019</td></tr>\n",
       "\t<tr><td>Rot+Trans  </td><td>UniCon-HA</td><td>80.4</td><td>96.4</td><td>85.9</td><td>81.1</td><td>91.3</td><td>89.6</td><td>89.9</td><td>95.9</td><td>95.0</td><td>92.6</td><td>0.8980</td><td>2019</td><td>[pose_bias]   </td><td>1</td><td>Rotation-based</td><td>2019</td></tr>\n",
       "\t<tr><td>GOAD       </td><td>UniCon-HA</td><td>75.5</td><td>94.1</td><td>81.8</td><td>72.0</td><td>83.7</td><td>84.4</td><td>82.9</td><td>93.9</td><td>92.9</td><td>89.5</td><td>0.8510</td><td>2020</td><td>[pose_bias]   </td><td>1</td><td>Rotation-based</td><td>2020</td></tr>\n",
       "\t<tr><td>CSI        </td><td>UniCon-HA</td><td>89.9</td><td>99.1</td><td>93.1</td><td>86.4</td><td>93.9</td><td>93.2</td><td>95.1</td><td>98.7</td><td>97.9</td><td>95.5</td><td>0.9430</td><td>2020</td><td>[pose_bias]   </td><td>1</td><td>Rotation-based</td><td>2020</td></tr>\n",
       "\t<tr><td>iDECODe    </td><td>UniCon-HA</td><td>86.5</td><td>98.1</td><td>86.0</td><td>82.6</td><td>90.9</td><td>89.2</td><td>88.2</td><td>97.8</td><td>97.2</td><td>95.5</td><td>0.9120</td><td>2022</td><td>[pose_bias]   </td><td>1</td><td>Rotation-based</td><td>2022</td></tr>\n",
       "\t<tr><td>SSD        </td><td>UniCon-HA</td><td>82.7</td><td>98.5</td><td>84.2</td><td>84.5</td><td>84.8</td><td>90.9</td><td>91.7</td><td>95.2</td><td>92.9</td><td>94.4</td><td>0.9000</td><td>2021</td><td>[pose_bias]   </td><td>1</td><td>Rotation-based</td><td>2021</td></tr>\n",
       "\t<tr><td>NDA        </td><td>UniCon-HA</td><td>98.5</td><td>76.5</td><td>79.6</td><td>79.1</td><td>92.4</td><td>71.7</td><td>97.5</td><td>69.1</td><td>98.5</td><td>75.2</td><td>0.8430</td><td>2021</td><td>[pose_bias]   </td><td>1</td><td>Rotation-based</td><td>2021</td></tr>\n",
       "\t<tr><td>UniCon-HA  </td><td>UniCon-HA</td><td>91.7</td><td>99.2</td><td>93.9</td><td>89.5</td><td>95.1</td><td>94.1</td><td>96.6</td><td>98.9</td><td>98.1</td><td>96.6</td><td>0.9540</td><td>2023</td><td>[pose_bias]   </td><td>1</td><td>Rotation-based</td><td>2023</td></tr>\n",
       "\t<tr><td>OCSVM      </td><td>PLAD     </td><td>61.6</td><td>63.8</td><td>50.0</td><td>55.9</td><td>66.0</td><td>62.4</td><td>74.7</td><td>62.6</td><td>74.9</td><td>75.9</td><td>0.6478</td><td>2001</td><td>[other]       </td><td>3</td><td>Baselines     </td><td>2001</td></tr>\n",
       "\t<tr><td>IF         </td><td>PLAD     </td><td>66.1</td><td>43.7</td><td>64.3</td><td>50.5</td><td>74.3</td><td>52.3</td><td>70.7</td><td>53.0</td><td>69.1</td><td>53.2</td><td>0.5972</td><td>2008</td><td>[other]       </td><td>3</td><td>Baselines     </td><td>2008</td></tr>\n",
       "\t<tr><td>DAE        </td><td>PLAD     </td><td>41.1</td><td>47.8</td><td>61.6</td><td>56.2</td><td>72.8</td><td>51.3</td><td>68.8</td><td>49.7</td><td>48.7</td><td>37.8</td><td>0.5358</td><td>2008</td><td>[other]       </td><td>3</td><td>Baselines     </td><td>2008</td></tr>\n",
       "\t<tr><td>DAGMM      </td><td>PLAD     </td><td>41.4</td><td>57.1</td><td>53.8</td><td>51.2</td><td>52.2</td><td>49.3</td><td>64.9</td><td>55.3</td><td>51.9</td><td>54.2</td><td>0.5313</td><td>2018</td><td>[other]       </td><td>3</td><td>Baselines     </td><td>2018</td></tr>\n",
       "\t<tr><td>ADGAN      </td><td>PLAD     </td><td>63.2</td><td>52.9</td><td>58.0</td><td>60.6</td><td>60.7</td><td>65.9</td><td>61.1</td><td>63.0</td><td>74.4</td><td>64.2</td><td>0.6240</td><td>2018</td><td>[other]       </td><td>3</td><td>Baselines     </td><td>2018</td></tr>\n",
       "\t<tr><td>Deep-SVDD  </td><td>PLAD     </td><td>61.7</td><td>65.9</td><td>50.8</td><td>59.1</td><td>60.9</td><td>65.7</td><td>67.7</td><td>67.3</td><td>75.9</td><td>73.1</td><td>0.6481</td><td>2018</td><td>[other]       </td><td>3</td><td>Baselines     </td><td>2018</td></tr>\n",
       "\t<tr><td>OCGAN      </td><td>PLAD     </td><td>75.7</td><td>53.1</td><td>64.0</td><td>62.0</td><td>72.3</td><td>62.0</td><td>72.3</td><td>57.5</td><td>82.0</td><td>55.4</td><td>0.6563</td><td>2019</td><td>[other]       </td><td>3</td><td>Baselines     </td><td>2019</td></tr>\n",
       "\t<tr><td>TQM        </td><td>PLAD     </td><td>40.7</td><td>53.1</td><td>41.7</td><td>58.2</td><td>39.2</td><td>62.6</td><td>55.1</td><td>63.1</td><td>48.6</td><td>58.7</td><td>0.5210</td><td>2019</td><td>[other]       </td><td>3</td><td>Baselines     </td><td>2019</td></tr>\n",
       "\t<tr><td>DROCC      </td><td>PLAD     </td><td>79.2</td><td>74.9</td><td>68.3</td><td>62.3</td><td>70.3</td><td>66.1</td><td>68.1</td><td>71.3</td><td>62.3</td><td>76.6</td><td>0.6994</td><td>2020</td><td>[other]       </td><td>3</td><td>Baselines     </td><td>2020</td></tr>\n",
       "\t<tr><td>HRN-L2     </td><td>PLAD     </td><td>80.6</td><td>48.2</td><td>64.9</td><td>57.4</td><td>73.3</td><td>61.0</td><td>74.1</td><td>55.5</td><td>79.9</td><td>71.6</td><td>0.6665</td><td>2020</td><td>[other]       </td><td>3</td><td>Baselines     </td><td>2020</td></tr>\n",
       "\t<tr><td>HRN        </td><td>PLAD     </td><td>77.3</td><td>69.9</td><td>60.6</td><td>64.4</td><td>71.5</td><td>67.4</td><td>77.4</td><td>64.9</td><td>82.5</td><td>77.3</td><td>0.7132</td><td>2020</td><td>[other]       </td><td>3</td><td>Baselines     </td><td>2020</td></tr>\n",
       "\t<tr><td>PLAD       </td><td>PLAD     </td><td>82.5</td><td>80.8</td><td>68.8</td><td>65.2</td><td>71.6</td><td>71.2</td><td>76.4</td><td>73.5</td><td>80.6</td><td>80.5</td><td>0.7511</td><td>2022</td><td>[other]       </td><td>3</td><td>Baselines     </td><td>2022</td></tr>\n",
       "\t<tr><td>UNODE      </td><td>CVPR2024 </td><td> NaN</td><td> NaN</td><td> NaN</td><td> NaN</td><td> NaN</td><td> NaN</td><td> NaN</td><td> NaN</td><td> NaN</td><td> NaN</td><td>0.9690</td><td>2024</td><td>[pose_bias]   </td><td>1</td><td>Rotation-based</td><td>2024</td></tr>\n",
       "\t<tr><td>DO2HSC     </td><td>ICLR2024 </td><td>81.3</td><td>82.7</td><td>71.3</td><td>71.2</td><td>72.9</td><td>72.8</td><td>83.0</td><td>75.5</td><td>84.4</td><td>82.0</td><td>0.7770</td><td>2024</td><td>[other]       </td><td>3</td><td>Baselines     </td><td>2024</td></tr>\n",
       "\t<tr><td>DPAD       </td><td>AAAI2024 </td><td>78.0</td><td>75.0</td><td>68.1</td><td>66.7</td><td>77.9</td><td>68.6</td><td>81.2</td><td>74.8</td><td>79.1</td><td>76.1</td><td>0.7460</td><td>2024</td><td>[other]       </td><td>3</td><td>Baselines     </td><td>2024</td></tr>\n",
       "\t<tr><td>Ours (Avg) </td><td>self     </td><td>89.5</td><td>85.6</td><td>71.7</td><td>78.3</td><td>87.7</td><td>79.5</td><td>82.9</td><td>84.3</td><td>87.1</td><td>89.9</td><td>0.8370</td><td>2024</td><td>[ours]        </td><td>3</td><td>Ours          </td><td>2024</td></tr>\n",
       "\t<tr><td>Ours (Best)</td><td>self     </td><td>91.0</td><td>90.1</td><td>80.2</td><td>80.8</td><td>89.6</td><td>83.7</td><td>84.9</td><td>85.8</td><td>89.4</td><td>93.8</td><td>0.8810</td><td>2024</td><td>[ours]        </td><td>3</td><td>Ours          </td><td>2024</td></tr>\n",
       "</tbody>\n",
       "</table>\n"
      ],
      "text/latex": [
       "A data.frame: 30 × 18\n",
       "\\begin{tabular}{llllllllllllllllll}\n",
       " method & origin & AUC\\_Plane & AUC\\_Car & AUC\\_Bird & AUC\\_Cat & AUC\\_Deer & AUC\\_Dog & AUC\\_Frog & AUC\\_Horse & AUC\\_Ship & AUC\\_Truck & AUC\\_Mean & year & category & category2 & category3 & year2\\\\\n",
       " <chr> & <chr> & <dbl> & <dbl> & <dbl> & <dbl> & <dbl> & <dbl> & <dbl> & <dbl> & <dbl> & <dbl> & <dbl> & <int> & <chr> & <int> & <chr> & <fct>\\\\\n",
       "\\hline\n",
       "\t CutPaste    & self      &  NaN &  NaN &  NaN &  NaN &  NaN &  NaN &  NaN &  NaN &  NaN &  NaN & 0.6940 & 2021 & {[}localisation{]} & 3 & Localisation   & 2021\\\\\n",
       "\t SimpleNet   & self      &  NaN &  NaN &  NaN &  NaN &  NaN &  NaN &  NaN &  NaN &  NaN &  NaN & 0.8650 & 2023 & {[}localisation{]} & 3 & Localisation   & 2023\\\\\n",
       "\t DROC        & self      &  NaN &  NaN &  NaN &  NaN &  NaN &  NaN &  NaN &  NaN &  NaN &  NaN & 0.9250 & 2021 & {[}pose\\_bias{]}    & 1 & Rotation-based & 2021\\\\\n",
       "\t AnoGAN      & UniCon-HA & 67.1 & 54.7 & 52.9 & 54.5 & 65.1 & 60.3 & 58.5 & 62.5 & 75.8 & 66.5 & 0.6180 & 2017 & {[}other{]}        & 3 & Baselines      & 2017\\\\\n",
       "\t Geom        & UniCon-HA & 74.7 & 95.7 & 78.1 & 72.4 & 87.8 & 87.8 & 83.4 & 95.5 & 93.3 & 91.3 & 0.8600 & 2018 & {[}pose\\_bias{]}    & 1 & Rotation-based & 2018\\\\\n",
       "\t Rot         & UniCon-HA & 78.3 & 94.3 & 86.2 & 80.8 & 89.4 & 89.0 & 88.9 & 95.1 & 92.3 & 89.7 & 0.8840 & 2019 & {[}pose\\_bias{]}    & 1 & Rotation-based & 2019\\\\\n",
       "\t Rot+Trans   & UniCon-HA & 80.4 & 96.4 & 85.9 & 81.1 & 91.3 & 89.6 & 89.9 & 95.9 & 95.0 & 92.6 & 0.8980 & 2019 & {[}pose\\_bias{]}    & 1 & Rotation-based & 2019\\\\\n",
       "\t GOAD        & UniCon-HA & 75.5 & 94.1 & 81.8 & 72.0 & 83.7 & 84.4 & 82.9 & 93.9 & 92.9 & 89.5 & 0.8510 & 2020 & {[}pose\\_bias{]}    & 1 & Rotation-based & 2020\\\\\n",
       "\t CSI         & UniCon-HA & 89.9 & 99.1 & 93.1 & 86.4 & 93.9 & 93.2 & 95.1 & 98.7 & 97.9 & 95.5 & 0.9430 & 2020 & {[}pose\\_bias{]}    & 1 & Rotation-based & 2020\\\\\n",
       "\t iDECODe     & UniCon-HA & 86.5 & 98.1 & 86.0 & 82.6 & 90.9 & 89.2 & 88.2 & 97.8 & 97.2 & 95.5 & 0.9120 & 2022 & {[}pose\\_bias{]}    & 1 & Rotation-based & 2022\\\\\n",
       "\t SSD         & UniCon-HA & 82.7 & 98.5 & 84.2 & 84.5 & 84.8 & 90.9 & 91.7 & 95.2 & 92.9 & 94.4 & 0.9000 & 2021 & {[}pose\\_bias{]}    & 1 & Rotation-based & 2021\\\\\n",
       "\t NDA         & UniCon-HA & 98.5 & 76.5 & 79.6 & 79.1 & 92.4 & 71.7 & 97.5 & 69.1 & 98.5 & 75.2 & 0.8430 & 2021 & {[}pose\\_bias{]}    & 1 & Rotation-based & 2021\\\\\n",
       "\t UniCon-HA   & UniCon-HA & 91.7 & 99.2 & 93.9 & 89.5 & 95.1 & 94.1 & 96.6 & 98.9 & 98.1 & 96.6 & 0.9540 & 2023 & {[}pose\\_bias{]}    & 1 & Rotation-based & 2023\\\\\n",
       "\t OCSVM       & PLAD      & 61.6 & 63.8 & 50.0 & 55.9 & 66.0 & 62.4 & 74.7 & 62.6 & 74.9 & 75.9 & 0.6478 & 2001 & {[}other{]}        & 3 & Baselines      & 2001\\\\\n",
       "\t IF          & PLAD      & 66.1 & 43.7 & 64.3 & 50.5 & 74.3 & 52.3 & 70.7 & 53.0 & 69.1 & 53.2 & 0.5972 & 2008 & {[}other{]}        & 3 & Baselines      & 2008\\\\\n",
       "\t DAE         & PLAD      & 41.1 & 47.8 & 61.6 & 56.2 & 72.8 & 51.3 & 68.8 & 49.7 & 48.7 & 37.8 & 0.5358 & 2008 & {[}other{]}        & 3 & Baselines      & 2008\\\\\n",
       "\t DAGMM       & PLAD      & 41.4 & 57.1 & 53.8 & 51.2 & 52.2 & 49.3 & 64.9 & 55.3 & 51.9 & 54.2 & 0.5313 & 2018 & {[}other{]}        & 3 & Baselines      & 2018\\\\\n",
       "\t ADGAN       & PLAD      & 63.2 & 52.9 & 58.0 & 60.6 & 60.7 & 65.9 & 61.1 & 63.0 & 74.4 & 64.2 & 0.6240 & 2018 & {[}other{]}        & 3 & Baselines      & 2018\\\\\n",
       "\t Deep-SVDD   & PLAD      & 61.7 & 65.9 & 50.8 & 59.1 & 60.9 & 65.7 & 67.7 & 67.3 & 75.9 & 73.1 & 0.6481 & 2018 & {[}other{]}        & 3 & Baselines      & 2018\\\\\n",
       "\t OCGAN       & PLAD      & 75.7 & 53.1 & 64.0 & 62.0 & 72.3 & 62.0 & 72.3 & 57.5 & 82.0 & 55.4 & 0.6563 & 2019 & {[}other{]}        & 3 & Baselines      & 2019\\\\\n",
       "\t TQM         & PLAD      & 40.7 & 53.1 & 41.7 & 58.2 & 39.2 & 62.6 & 55.1 & 63.1 & 48.6 & 58.7 & 0.5210 & 2019 & {[}other{]}        & 3 & Baselines      & 2019\\\\\n",
       "\t DROCC       & PLAD      & 79.2 & 74.9 & 68.3 & 62.3 & 70.3 & 66.1 & 68.1 & 71.3 & 62.3 & 76.6 & 0.6994 & 2020 & {[}other{]}        & 3 & Baselines      & 2020\\\\\n",
       "\t HRN-L2      & PLAD      & 80.6 & 48.2 & 64.9 & 57.4 & 73.3 & 61.0 & 74.1 & 55.5 & 79.9 & 71.6 & 0.6665 & 2020 & {[}other{]}        & 3 & Baselines      & 2020\\\\\n",
       "\t HRN         & PLAD      & 77.3 & 69.9 & 60.6 & 64.4 & 71.5 & 67.4 & 77.4 & 64.9 & 82.5 & 77.3 & 0.7132 & 2020 & {[}other{]}        & 3 & Baselines      & 2020\\\\\n",
       "\t PLAD        & PLAD      & 82.5 & 80.8 & 68.8 & 65.2 & 71.6 & 71.2 & 76.4 & 73.5 & 80.6 & 80.5 & 0.7511 & 2022 & {[}other{]}        & 3 & Baselines      & 2022\\\\\n",
       "\t UNODE       & CVPR2024  &  NaN &  NaN &  NaN &  NaN &  NaN &  NaN &  NaN &  NaN &  NaN &  NaN & 0.9690 & 2024 & {[}pose\\_bias{]}    & 1 & Rotation-based & 2024\\\\\n",
       "\t DO2HSC      & ICLR2024  & 81.3 & 82.7 & 71.3 & 71.2 & 72.9 & 72.8 & 83.0 & 75.5 & 84.4 & 82.0 & 0.7770 & 2024 & {[}other{]}        & 3 & Baselines      & 2024\\\\\n",
       "\t DPAD        & AAAI2024  & 78.0 & 75.0 & 68.1 & 66.7 & 77.9 & 68.6 & 81.2 & 74.8 & 79.1 & 76.1 & 0.7460 & 2024 & {[}other{]}        & 3 & Baselines      & 2024\\\\\n",
       "\t Ours (Avg)  & self      & 89.5 & 85.6 & 71.7 & 78.3 & 87.7 & 79.5 & 82.9 & 84.3 & 87.1 & 89.9 & 0.8370 & 2024 & {[}ours{]}         & 3 & Ours           & 2024\\\\\n",
       "\t Ours (Best) & self      & 91.0 & 90.1 & 80.2 & 80.8 & 89.6 & 83.7 & 84.9 & 85.8 & 89.4 & 93.8 & 0.8810 & 2024 & {[}ours{]}         & 3 & Ours           & 2024\\\\\n",
       "\\end{tabular}\n"
      ],
      "text/markdown": [
       "\n",
       "A data.frame: 30 × 18\n",
       "\n",
       "| method &lt;chr&gt; | origin &lt;chr&gt; | AUC_Plane &lt;dbl&gt; | AUC_Car &lt;dbl&gt; | AUC_Bird &lt;dbl&gt; | AUC_Cat &lt;dbl&gt; | AUC_Deer &lt;dbl&gt; | AUC_Dog &lt;dbl&gt; | AUC_Frog &lt;dbl&gt; | AUC_Horse &lt;dbl&gt; | AUC_Ship &lt;dbl&gt; | AUC_Truck &lt;dbl&gt; | AUC_Mean &lt;dbl&gt; | year &lt;int&gt; | category &lt;chr&gt; | category2 &lt;int&gt; | category3 &lt;chr&gt; | year2 &lt;fct&gt; |\n",
       "|---|---|---|---|---|---|---|---|---|---|---|---|---|---|---|---|---|---|\n",
       "| CutPaste    | self      |  NaN |  NaN |  NaN |  NaN |  NaN |  NaN |  NaN |  NaN |  NaN |  NaN | 0.6940 | 2021 | [localisation] | 3 | Localisation   | 2021 |\n",
       "| SimpleNet   | self      |  NaN |  NaN |  NaN |  NaN |  NaN |  NaN |  NaN |  NaN |  NaN |  NaN | 0.8650 | 2023 | [localisation] | 3 | Localisation   | 2023 |\n",
       "| DROC        | self      |  NaN |  NaN |  NaN |  NaN |  NaN |  NaN |  NaN |  NaN |  NaN |  NaN | 0.9250 | 2021 | [pose_bias]    | 1 | Rotation-based | 2021 |\n",
       "| AnoGAN      | UniCon-HA | 67.1 | 54.7 | 52.9 | 54.5 | 65.1 | 60.3 | 58.5 | 62.5 | 75.8 | 66.5 | 0.6180 | 2017 | [other]        | 3 | Baselines      | 2017 |\n",
       "| Geom        | UniCon-HA | 74.7 | 95.7 | 78.1 | 72.4 | 87.8 | 87.8 | 83.4 | 95.5 | 93.3 | 91.3 | 0.8600 | 2018 | [pose_bias]    | 1 | Rotation-based | 2018 |\n",
       "| Rot         | UniCon-HA | 78.3 | 94.3 | 86.2 | 80.8 | 89.4 | 89.0 | 88.9 | 95.1 | 92.3 | 89.7 | 0.8840 | 2019 | [pose_bias]    | 1 | Rotation-based | 2019 |\n",
       "| Rot+Trans   | UniCon-HA | 80.4 | 96.4 | 85.9 | 81.1 | 91.3 | 89.6 | 89.9 | 95.9 | 95.0 | 92.6 | 0.8980 | 2019 | [pose_bias]    | 1 | Rotation-based | 2019 |\n",
       "| GOAD        | UniCon-HA | 75.5 | 94.1 | 81.8 | 72.0 | 83.7 | 84.4 | 82.9 | 93.9 | 92.9 | 89.5 | 0.8510 | 2020 | [pose_bias]    | 1 | Rotation-based | 2020 |\n",
       "| CSI         | UniCon-HA | 89.9 | 99.1 | 93.1 | 86.4 | 93.9 | 93.2 | 95.1 | 98.7 | 97.9 | 95.5 | 0.9430 | 2020 | [pose_bias]    | 1 | Rotation-based | 2020 |\n",
       "| iDECODe     | UniCon-HA | 86.5 | 98.1 | 86.0 | 82.6 | 90.9 | 89.2 | 88.2 | 97.8 | 97.2 | 95.5 | 0.9120 | 2022 | [pose_bias]    | 1 | Rotation-based | 2022 |\n",
       "| SSD         | UniCon-HA | 82.7 | 98.5 | 84.2 | 84.5 | 84.8 | 90.9 | 91.7 | 95.2 | 92.9 | 94.4 | 0.9000 | 2021 | [pose_bias]    | 1 | Rotation-based | 2021 |\n",
       "| NDA         | UniCon-HA | 98.5 | 76.5 | 79.6 | 79.1 | 92.4 | 71.7 | 97.5 | 69.1 | 98.5 | 75.2 | 0.8430 | 2021 | [pose_bias]    | 1 | Rotation-based | 2021 |\n",
       "| UniCon-HA   | UniCon-HA | 91.7 | 99.2 | 93.9 | 89.5 | 95.1 | 94.1 | 96.6 | 98.9 | 98.1 | 96.6 | 0.9540 | 2023 | [pose_bias]    | 1 | Rotation-based | 2023 |\n",
       "| OCSVM       | PLAD      | 61.6 | 63.8 | 50.0 | 55.9 | 66.0 | 62.4 | 74.7 | 62.6 | 74.9 | 75.9 | 0.6478 | 2001 | [other]        | 3 | Baselines      | 2001 |\n",
       "| IF          | PLAD      | 66.1 | 43.7 | 64.3 | 50.5 | 74.3 | 52.3 | 70.7 | 53.0 | 69.1 | 53.2 | 0.5972 | 2008 | [other]        | 3 | Baselines      | 2008 |\n",
       "| DAE         | PLAD      | 41.1 | 47.8 | 61.6 | 56.2 | 72.8 | 51.3 | 68.8 | 49.7 | 48.7 | 37.8 | 0.5358 | 2008 | [other]        | 3 | Baselines      | 2008 |\n",
       "| DAGMM       | PLAD      | 41.4 | 57.1 | 53.8 | 51.2 | 52.2 | 49.3 | 64.9 | 55.3 | 51.9 | 54.2 | 0.5313 | 2018 | [other]        | 3 | Baselines      | 2018 |\n",
       "| ADGAN       | PLAD      | 63.2 | 52.9 | 58.0 | 60.6 | 60.7 | 65.9 | 61.1 | 63.0 | 74.4 | 64.2 | 0.6240 | 2018 | [other]        | 3 | Baselines      | 2018 |\n",
       "| Deep-SVDD   | PLAD      | 61.7 | 65.9 | 50.8 | 59.1 | 60.9 | 65.7 | 67.7 | 67.3 | 75.9 | 73.1 | 0.6481 | 2018 | [other]        | 3 | Baselines      | 2018 |\n",
       "| OCGAN       | PLAD      | 75.7 | 53.1 | 64.0 | 62.0 | 72.3 | 62.0 | 72.3 | 57.5 | 82.0 | 55.4 | 0.6563 | 2019 | [other]        | 3 | Baselines      | 2019 |\n",
       "| TQM         | PLAD      | 40.7 | 53.1 | 41.7 | 58.2 | 39.2 | 62.6 | 55.1 | 63.1 | 48.6 | 58.7 | 0.5210 | 2019 | [other]        | 3 | Baselines      | 2019 |\n",
       "| DROCC       | PLAD      | 79.2 | 74.9 | 68.3 | 62.3 | 70.3 | 66.1 | 68.1 | 71.3 | 62.3 | 76.6 | 0.6994 | 2020 | [other]        | 3 | Baselines      | 2020 |\n",
       "| HRN-L2      | PLAD      | 80.6 | 48.2 | 64.9 | 57.4 | 73.3 | 61.0 | 74.1 | 55.5 | 79.9 | 71.6 | 0.6665 | 2020 | [other]        | 3 | Baselines      | 2020 |\n",
       "| HRN         | PLAD      | 77.3 | 69.9 | 60.6 | 64.4 | 71.5 | 67.4 | 77.4 | 64.9 | 82.5 | 77.3 | 0.7132 | 2020 | [other]        | 3 | Baselines      | 2020 |\n",
       "| PLAD        | PLAD      | 82.5 | 80.8 | 68.8 | 65.2 | 71.6 | 71.2 | 76.4 | 73.5 | 80.6 | 80.5 | 0.7511 | 2022 | [other]        | 3 | Baselines      | 2022 |\n",
       "| UNODE       | CVPR2024  |  NaN |  NaN |  NaN |  NaN |  NaN |  NaN |  NaN |  NaN |  NaN |  NaN | 0.9690 | 2024 | [pose_bias]    | 1 | Rotation-based | 2024 |\n",
       "| DO2HSC      | ICLR2024  | 81.3 | 82.7 | 71.3 | 71.2 | 72.9 | 72.8 | 83.0 | 75.5 | 84.4 | 82.0 | 0.7770 | 2024 | [other]        | 3 | Baselines      | 2024 |\n",
       "| DPAD        | AAAI2024  | 78.0 | 75.0 | 68.1 | 66.7 | 77.9 | 68.6 | 81.2 | 74.8 | 79.1 | 76.1 | 0.7460 | 2024 | [other]        | 3 | Baselines      | 2024 |\n",
       "| Ours (Avg)  | self      | 89.5 | 85.6 | 71.7 | 78.3 | 87.7 | 79.5 | 82.9 | 84.3 | 87.1 | 89.9 | 0.8370 | 2024 | [ours]         | 3 | Ours           | 2024 |\n",
       "| Ours (Best) | self      | 91.0 | 90.1 | 80.2 | 80.8 | 89.6 | 83.7 | 84.9 | 85.8 | 89.4 | 93.8 | 0.8810 | 2024 | [ours]         | 3 | Ours           | 2024 |\n",
       "\n"
      ],
      "text/plain": [
       "   method      origin    AUC_Plane AUC_Car AUC_Bird AUC_Cat AUC_Deer AUC_Dog\n",
       "1  CutPaste    self       NaN       NaN     NaN      NaN     NaN      NaN   \n",
       "2  SimpleNet   self       NaN       NaN     NaN      NaN     NaN      NaN   \n",
       "3  DROC        self       NaN       NaN     NaN      NaN     NaN      NaN   \n",
       "4  AnoGAN      UniCon-HA 67.1      54.7    52.9     54.5    65.1     60.3   \n",
       "5  Geom        UniCon-HA 74.7      95.7    78.1     72.4    87.8     87.8   \n",
       "6  Rot         UniCon-HA 78.3      94.3    86.2     80.8    89.4     89.0   \n",
       "7  Rot+Trans   UniCon-HA 80.4      96.4    85.9     81.1    91.3     89.6   \n",
       "8  GOAD        UniCon-HA 75.5      94.1    81.8     72.0    83.7     84.4   \n",
       "9  CSI         UniCon-HA 89.9      99.1    93.1     86.4    93.9     93.2   \n",
       "10 iDECODe     UniCon-HA 86.5      98.1    86.0     82.6    90.9     89.2   \n",
       "11 SSD         UniCon-HA 82.7      98.5    84.2     84.5    84.8     90.9   \n",
       "12 NDA         UniCon-HA 98.5      76.5    79.6     79.1    92.4     71.7   \n",
       "13 UniCon-HA   UniCon-HA 91.7      99.2    93.9     89.5    95.1     94.1   \n",
       "14 OCSVM       PLAD      61.6      63.8    50.0     55.9    66.0     62.4   \n",
       "15 IF          PLAD      66.1      43.7    64.3     50.5    74.3     52.3   \n",
       "16 DAE         PLAD      41.1      47.8    61.6     56.2    72.8     51.3   \n",
       "17 DAGMM       PLAD      41.4      57.1    53.8     51.2    52.2     49.3   \n",
       "18 ADGAN       PLAD      63.2      52.9    58.0     60.6    60.7     65.9   \n",
       "19 Deep-SVDD   PLAD      61.7      65.9    50.8     59.1    60.9     65.7   \n",
       "20 OCGAN       PLAD      75.7      53.1    64.0     62.0    72.3     62.0   \n",
       "21 TQM         PLAD      40.7      53.1    41.7     58.2    39.2     62.6   \n",
       "22 DROCC       PLAD      79.2      74.9    68.3     62.3    70.3     66.1   \n",
       "23 HRN-L2      PLAD      80.6      48.2    64.9     57.4    73.3     61.0   \n",
       "24 HRN         PLAD      77.3      69.9    60.6     64.4    71.5     67.4   \n",
       "25 PLAD        PLAD      82.5      80.8    68.8     65.2    71.6     71.2   \n",
       "26 UNODE       CVPR2024   NaN       NaN     NaN      NaN     NaN      NaN   \n",
       "27 DO2HSC      ICLR2024  81.3      82.7    71.3     71.2    72.9     72.8   \n",
       "28 DPAD        AAAI2024  78.0      75.0    68.1     66.7    77.9     68.6   \n",
       "29 Ours (Avg)  self      89.5      85.6    71.7     78.3    87.7     79.5   \n",
       "30 Ours (Best) self      91.0      90.1    80.2     80.8    89.6     83.7   \n",
       "   AUC_Frog AUC_Horse AUC_Ship AUC_Truck AUC_Mean year category       category2\n",
       "1   NaN      NaN       NaN      NaN      0.6940   2021 [localisation] 3        \n",
       "2   NaN      NaN       NaN      NaN      0.8650   2023 [localisation] 3        \n",
       "3   NaN      NaN       NaN      NaN      0.9250   2021 [pose_bias]    1        \n",
       "4  58.5     62.5      75.8     66.5      0.6180   2017 [other]        3        \n",
       "5  83.4     95.5      93.3     91.3      0.8600   2018 [pose_bias]    1        \n",
       "6  88.9     95.1      92.3     89.7      0.8840   2019 [pose_bias]    1        \n",
       "7  89.9     95.9      95.0     92.6      0.8980   2019 [pose_bias]    1        \n",
       "8  82.9     93.9      92.9     89.5      0.8510   2020 [pose_bias]    1        \n",
       "9  95.1     98.7      97.9     95.5      0.9430   2020 [pose_bias]    1        \n",
       "10 88.2     97.8      97.2     95.5      0.9120   2022 [pose_bias]    1        \n",
       "11 91.7     95.2      92.9     94.4      0.9000   2021 [pose_bias]    1        \n",
       "12 97.5     69.1      98.5     75.2      0.8430   2021 [pose_bias]    1        \n",
       "13 96.6     98.9      98.1     96.6      0.9540   2023 [pose_bias]    1        \n",
       "14 74.7     62.6      74.9     75.9      0.6478   2001 [other]        3        \n",
       "15 70.7     53.0      69.1     53.2      0.5972   2008 [other]        3        \n",
       "16 68.8     49.7      48.7     37.8      0.5358   2008 [other]        3        \n",
       "17 64.9     55.3      51.9     54.2      0.5313   2018 [other]        3        \n",
       "18 61.1     63.0      74.4     64.2      0.6240   2018 [other]        3        \n",
       "19 67.7     67.3      75.9     73.1      0.6481   2018 [other]        3        \n",
       "20 72.3     57.5      82.0     55.4      0.6563   2019 [other]        3        \n",
       "21 55.1     63.1      48.6     58.7      0.5210   2019 [other]        3        \n",
       "22 68.1     71.3      62.3     76.6      0.6994   2020 [other]        3        \n",
       "23 74.1     55.5      79.9     71.6      0.6665   2020 [other]        3        \n",
       "24 77.4     64.9      82.5     77.3      0.7132   2020 [other]        3        \n",
       "25 76.4     73.5      80.6     80.5      0.7511   2022 [other]        3        \n",
       "26  NaN      NaN       NaN      NaN      0.9690   2024 [pose_bias]    1        \n",
       "27 83.0     75.5      84.4     82.0      0.7770   2024 [other]        3        \n",
       "28 81.2     74.8      79.1     76.1      0.7460   2024 [other]        3        \n",
       "29 82.9     84.3      87.1     89.9      0.8370   2024 [ours]         3        \n",
       "30 84.9     85.8      89.4     93.8      0.8810   2024 [ours]         3        \n",
       "   category3      year2\n",
       "1  Localisation   2021 \n",
       "2  Localisation   2023 \n",
       "3  Rotation-based 2021 \n",
       "4  Baselines      2017 \n",
       "5  Rotation-based 2018 \n",
       "6  Rotation-based 2019 \n",
       "7  Rotation-based 2019 \n",
       "8  Rotation-based 2020 \n",
       "9  Rotation-based 2020 \n",
       "10 Rotation-based 2022 \n",
       "11 Rotation-based 2021 \n",
       "12 Rotation-based 2021 \n",
       "13 Rotation-based 2023 \n",
       "14 Baselines      2001 \n",
       "15 Baselines      2008 \n",
       "16 Baselines      2008 \n",
       "17 Baselines      2018 \n",
       "18 Baselines      2018 \n",
       "19 Baselines      2018 \n",
       "20 Baselines      2019 \n",
       "21 Baselines      2019 \n",
       "22 Baselines      2020 \n",
       "23 Baselines      2020 \n",
       "24 Baselines      2020 \n",
       "25 Baselines      2022 \n",
       "26 Rotation-based 2024 \n",
       "27 Baselines      2024 \n",
       "28 Baselines      2024 \n",
       "29 Ours           2024 \n",
       "30 Ours           2024 "
      ]
     },
     "metadata": {},
     "output_type": "display_data"
    }
   ],
   "source": [
    "tr <- list('pose_bias'=1, 'other'=3, 'ours'=3)\n",
    "tr2 <- list('pose_bias'='Rotation-based', 'other'=\"Baselines\", 'ours'=\"Ours\")\n",
    "\n",
    "df$category2 <- sapply(df[, 15], function (x) as.integer(tr[substr(x, 2, nchar(x) - 1)]))\n",
    "df$category3 <- sapply(df[, 15], function (x) as.character(tr2[substr(x, 2, nchar(x) - 1)]))\n",
    "\n",
    "df$year2 <- as.factor(df$year)\n",
    "df$AUC_Mean <- sapply(df[, 13], function (x) x / 100)\n",
    "df"
   ]
  },
  {
   "cell_type": "code",
   "execution_count": 10,
   "metadata": {
    "vscode": {
     "languageId": "r"
    }
   },
   "outputs": [],
   "source": [
    "df[[1]][27] <- 'Ours'\n",
    "\n",
    "df <- df[0:27, ]"
   ]
  },
  {
   "cell_type": "code",
   "execution_count": 11,
   "metadata": {
    "vscode": {
     "languageId": "r"
    }
   },
   "outputs": [
    {
     "name": "stderr",
     "output_type": "stream",
     "text": [
      "Warning message:\n",
      "“\u001b[1m\u001b[22mRemoved 2 rows containing missing values or values outside the scale range\n",
      "(`geom_point()`).”\n"
     ]
    },
    {
     "data": {
      "image/png": "[encoded data removed]",
      "text/plain": [
       "plot without title"
      ]
     },
     "metadata": {
      "image/png": {
       "height": 240,
       "width": 420
      }
     },
     "output_type": "display_data"
    }
   ],
   "source": [
    "legend.title <- \"Method Type\"\n",
    "levels <- c(\"Rotation-based\", \"Baselines\", \"Ours\")\n",
    "\n",
    "colours <- c(\"#4c72b0\", \"#55a868\", \"#c44e52\")\n",
    "df$category3 <- factor(df$category3, levels = levels)\n",
    "df$category2 <- factor(df$category2, labels= c(\"Rotation-based\", \"\"))\n",
    "p <- ggplot(df, aes(x=year2, y=AUC_Mean, col=category3)) +\n",
    "     geom_point() +\n",
    "     geom_text_repel(aes(label = method, family=\"LM Roman 10\", fontface=\"plain\"), size = 3, show.legend = FALSE) +\n",
    "     facet_wrap(~category2, nrow=1, scales=\"free_x\") + \n",
    "     ThemePublication(base_family=\"LM Roman 10\") + TransparentBackground() +\n",
    "     ScalePublication22(colours, labels=levels) +\n",
    "     ylab(\"Average AUC\") + xlab(\"\") +\n",
    "     scale_y_continuous(expand=c(0, .001), limits=c(0.5, .999)) +\n",
    "     labs(color =  paste0(legend.title, \"  - \")) +\n",
    "     theme(axis.text.x = element_text(angle=45, vjust = 0.5), legend.key.size = unit(0.5, \"cm\"), legend.position = c(0.5, -0.23)) +\n",
    "     guides(color = guide_legend(nrow=1))\n",
    "\n",
    "g <- ggplot_gtable(ggplot_build(p))\n",
    "alpha_ <- 0.05\n",
    "fills <- c(alpha(\"#4c72b0\", 0.2), alpha(\"#8c8c8c\", alpha_))\n",
    "stripr <- which(grepl('panel', g$layout$name))\n",
    "k <- 1\n",
    "for (i in stripr) {\n",
    "  j <- which(grepl('rect', g$grobs[[i]]$childrenOrder))\n",
    "  g$grobs[[i]]$children[[j]]$gp$fill <- fills[k]\n",
    "  k <- k+1\n",
    "}\n",
    "g$widths[5] <- g$widths[5] * 1\n",
    "g$widths[7] <- g$widths[7] * 0.5\n",
    "g$heights[1] <- g$heights[1] * 0\n",
    "\n",
    "options(repr.plot.width = NULL, repr.plot.height = 4)\n",
    "grid.draw(g)"
   ]
  },
  {
   "cell_type": "code",
   "execution_count": 13,
   "metadata": {
    "vscode": {
     "languageId": "r"
    }
   },
   "outputs": [
    {
     "name": "stderr",
     "output_type": "stream",
     "text": [
      "\u001b[1m\u001b[22mSaving 6.67 x 4 in image\n"
     ]
    }
   ],
   "source": [
    "ggsave(paste0(\"compare-tight.pdf\"), g, , bg='transparent',height = 4)"
   ]
  }
 ],
 "metadata": {
  "kernelspec": {
   "display_name": "R",
   "language": "R",
   "name": "ir"
  },
  "language_info": {
   "codemirror_mode": "r",
   "file_extension": ".r",
   "mimetype": "text/x-r-source",
   "name": "R",
   "pygments_lexer": "r",
   "version": "4.3.0"
  }
 },
 "nbformat": 4,
 "nbformat_minor": 2
}
