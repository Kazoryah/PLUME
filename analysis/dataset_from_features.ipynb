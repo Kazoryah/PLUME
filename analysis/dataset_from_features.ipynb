{
 "cells": [
  {
   "cell_type": "code",
   "execution_count": 1,
   "metadata": {},
   "outputs": [
    {
     "name": "stderr",
     "output_type": "stream",
     "text": [
      "/opt/conda/envs/perturbations/lib/python3.10/site-packages/tqdm/auto.py:21: TqdmWarning: IProgress not found. Please update jupyter and ipywidgets. See https://ipywidgets.readthedocs.io/en/stable/user_install.html\n",
      "  from .autonotebook import tqdm as notebook_tqdm\n"
     ]
    }
   ],
   "source": [
    "from pathlib import Path\n",
    "import sys\n",
    "import os\n",
    "\n",
    "sys.path.append((Path(os.getcwd()).parent / \"src\").as_posix())\n",
    "sys.path.append((Path(os.getcwd())).parent.as_posix())\n",
    "\n",
    "from analysis import VGG16Inspector, ResNet50Inspector\n",
    "from datasets import CIFAR10, FMNIST, SPARK, JigsawCIFAR10\n",
    "from datasets.base import DataLoader\n",
    "from misc.trainer import Trainer\n",
    "from models import PLAD\n",
    "\n",
    "import torch\n",
    "import matplotlib.pyplot as plt\n",
    "\n",
    "os.environ[\"CUDA_DEVICE_ORDER\"] = \"PCI_BUS_ID\""
   ]
  },
  {
   "cell_type": "code",
   "execution_count": 2,
   "metadata": {},
   "outputs": [],
   "source": [
    "# CIFAR10\n",
    "# best_model = \"/data-isilon/results/perturbations/lightning_logs/train_features_cifar10/version_0/checkpoints/epoch=45-step=71898.ckpt\"\n",
    "# save_folder = \"/data-isilon/datasets/perturbations/features/cifar10/train_features_cifar10/version_0/\"\n",
    "\n",
    "# SPARK\n",
    "# best_model = \"/data-isilon/results/perturbations/lightning_logs/train_features_spark/0000-0237-0466/checkpoints/epoch=16-step=39848.ckpt\"\n",
    "# save_folder = \"/data-isilon/datasets/perturbations/features/spark/train_features_spark/0000-0237-0466/\"\n",
    "\n",
    "# CIFAR10 VGG16\n",
    "# best_model = \"/data-isilon/results/perturbations/lightning_logs/train_features_cifar10_vgg16/0007-0636-0236/checkpoints/start.ckpt\"\n",
    "# save_folder = \"/data-isilon/datasets/perturbations/features/cifar10/train_features_cifar10_vgg16/0007-0636-0236/\"\n",
    "# inspector_class=VGG16Inspector\n",
    "\n",
    "# CIFAR10 ResNet50\n",
    "best_model = \"/data-isilon/results/perturbations/lightning_logs/train_features_cifar10_resnet50/0000-0969-0933/checkpoints/start.ckpt\"\n",
    "save_folder = \"/data-isilon/datasets/perturbations/features/cifar10/train_features_cifar10_resnet50/0000-0969-0933/\"\n",
    "inspector_class=ResNet50Inspector"
   ]
  },
  {
   "cell_type": "markdown",
   "metadata": {},
   "source": [
    "# CIFAR10"
   ]
  },
  {
   "cell_type": "code",
   "execution_count": 7,
   "metadata": {},
   "outputs": [
    {
     "name": "stderr",
     "output_type": "stream",
     "text": [
      "GPU available: True (cuda), used: True\n",
      "TPU available: False, using: 0 TPU cores\n",
      "IPU available: False, using: 0 IPUs\n",
      "HPU available: False, using: 0 HPUs\n"
     ]
    }
   ],
   "source": [
    "trainer = Trainer(\n",
    "    devices=[0],\n",
    "    accelerator=\"gpu\",\n",
    "    logger=False,\n",
    ")\n",
    "\n",
    "class CIFAR10Bypass(CIFAR10):\n",
    "    def train_dataloader(self):\n",
    "        return DataLoader(\n",
    "            self.train_set,\n",
    "            batch_size=self.batch_size,\n",
    "            num_workers=self.num_workers,\n",
    "            pin_memory=False,\n",
    "            shuffle=False,\n",
    "        )\n",
    "\n",
    "datamodule = CIFAR10Bypass(\n",
    "    batch_size=16,\n",
    "    dataset_dir=\"/data-isilon/datasets\",\n",
    "    resize=inspector_class.input_shape()\n",
    ")\n",
    "\n",
    "# datamodule.predict_dataloader = datamodule.train_dataloader\n",
    "# save_file = \"train\"\n",
    "\n",
    "datamodule.predict_dataloader = datamodule.val_dataloader\n",
    "save_file = \"val\""
   ]
  },
  {
   "cell_type": "markdown",
   "metadata": {},
   "source": [
    "# SPARK"
   ]
  },
  {
   "cell_type": "code",
   "execution_count": 31,
   "metadata": {},
   "outputs": [
    {
     "name": "stderr",
     "output_type": "stream",
     "text": [
      "GPU available: True (cuda), used: True\n",
      "TPU available: False, using: 0 TPU cores\n",
      "IPU available: False, using: 0 IPUs\n",
      "HPU available: False, using: 0 HPUs\n"
     ]
    }
   ],
   "source": [
    "from typing import Optional\n",
    "\n",
    "\n",
    "trainer = Trainer(\n",
    "    devices=[3],\n",
    "    accelerator=\"gpu\",\n",
    "    logger=False,\n",
    ")\n",
    "\n",
    "class SPARKBypass(SPARK):\n",
    "    def train_dataloader(self):\n",
    "        return DataLoader(\n",
    "            self.train_set,\n",
    "            batch_size=self.batch_size,\n",
    "            num_workers=self.num_workers,\n",
    "            pin_memory=False,\n",
    "            shuffle=False,\n",
    "        )\n",
    "    \n",
    "    def setup(self, stage: str | None = None) -> None:\n",
    "        kwargs = self._get_dataset_args()\n",
    "\n",
    "        self.train_set = self.dataset_class(\n",
    "            train=True,\n",
    "            **kwargs,\n",
    "        )\n",
    "\n",
    "        self.val_set = self.dataset_class(\n",
    "            train=False,\n",
    "            **kwargs,\n",
    "        )\n",
    "\n",
    "    @property\n",
    "    def num_classes(self) -> int:\n",
    "        return self.dataset_class.num_classes()\n",
    "\n",
    "datamodule = SPARKBypass(\n",
    "    batch_size=64,\n",
    "    dataset_dir=\"/data-isilon/datasets\",\n",
    "    resize=inspector_class.input_shape(),\n",
    ")\n",
    "\n",
    "datamodule.predict_dataloader = datamodule.train_dataloader\n",
    "save_file = \"train\"\n",
    "\n",
    "# datamodule.predict_dataloader = datamodule.val_dataloader\n",
    "# save_file = \"val\""
   ]
  },
  {
   "cell_type": "markdown",
   "metadata": {},
   "source": [
    "# Predict"
   ]
  },
  {
   "cell_type": "code",
   "execution_count": 4,
   "metadata": {},
   "outputs": [],
   "source": [
    "model = inspector_class.load_from_checkpoint(best_model)"
   ]
  },
  {
   "cell_type": "code",
   "execution_count": 5,
   "metadata": {},
   "outputs": [
    {
     "name": "stdout",
     "output_type": "stream",
     "text": [
      "Files already downloaded and verified\n",
      "Files already downloaded and verified\n"
     ]
    },
    {
     "name": "stderr",
     "output_type": "stream",
     "text": [
      "You are using a CUDA device ('NVIDIA RTX A4000') that has Tensor Cores. To properly utilize them, you should set `torch.set_float32_matmul_precision('medium' | 'high')` which will trade-off precision for performance. For more details, read https://pytorch.org/docs/stable/generated/torch.set_float32_matmul_precision.html#torch.set_float32_matmul_precision\n",
      "LOCAL_RANK: 0 - CUDA_VISIBLE_DEVICES: [0,1]\n",
      "/opt/conda/envs/perturbations/lib/python3.10/site-packages/pytorch_lightning/trainer/connectors/data_connector.py:430: PossibleUserWarning: The dataloader, predict_dataloader, does not have many workers which may be a bottleneck. Consider increasing the value of the `num_workers` argument` (try 64 which is the number of cpus on this machine) in the `DataLoader` init to improve performance.\n",
      "  rank_zero_warn(\n"
     ]
    },
    {
     "name": "stdout",
     "output_type": "stream",
     "text": [
      "Predicting DataLoader 0: 100%|██████████| 625/625 [01:17<00:00,  8.02it/s]\n"
     ]
    }
   ],
   "source": [
    "preds = trainer.predict(model, datamodule=datamodule)\n",
    "preds = torch.cat(preds)"
   ]
  },
  {
   "cell_type": "code",
   "execution_count": 6,
   "metadata": {},
   "outputs": [
    {
     "data": {
      "text/plain": [
       "torch.Size([10000, 3072])"
      ]
     },
     "execution_count": 6,
     "metadata": {},
     "output_type": "execute_result"
    }
   ],
   "source": [
    "preds.shape"
   ]
  },
  {
   "cell_type": "code",
   "execution_count": 7,
   "metadata": {},
   "outputs": [],
   "source": [
    "torch.save(preds, f\"{save_folder}/{save_file}.pt\")"
   ]
  }
 ],
 "metadata": {
  "kernelspec": {
   "display_name": "perturbations",
   "language": "python",
   "name": "python3"
  },
  "language_info": {
   "codemirror_mode": {
    "name": "ipython",
    "version": 3
   },
   "file_extension": ".py",
   "mimetype": "text/x-python",
   "name": "python",
   "nbconvert_exporter": "python",
   "pygments_lexer": "ipython3",
   "version": "3.10.12"
  },
  "orig_nbformat": 4
 },
 "nbformat": 4,
 "nbformat_minor": 2
}
